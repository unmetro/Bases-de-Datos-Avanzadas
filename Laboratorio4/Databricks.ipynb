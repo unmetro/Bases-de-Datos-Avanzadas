{
 "cells": [
  {
   "cell_type": "markdown",
   "metadata": {
    "application/vnd.databricks.v1+cell": {
     "cellMetadata": {},
     "inputWidgets": {},
     "nuid": "96816ed7-b08a-4ca3-abb9-f99880c3535d",
     "showTitle": false,
     "title": ""
    }
   },
   "source": [
    "\n",
    "## Overview\n",
    "\n",
    "This notebook shows you how to create and query a table or DataFrame loaded from data stored in AWS S3. There are two ways to establish access to S3: [IAM roles](https://docs.databricks.com/user-guide/cloud-configurations/aws/iam-roles.html) and access keys.\n",
    "\n",
    "*We recommend using IAM roles to specify which cluster can access which buckets. Keys can show up in logs and table metadata and are therefore fundamentally insecure.* If you do use keys, you'll have to escape the `/` in your keys with `%2F`.\n",
    "\n",
    "This is a **Python** notebook so the default cell type is Python. However, you can use different languages by using the `%LANGUAGE` magic command. Python, Scala, SQL, and R are all supported."
   ]
  },
  {
   "cell_type": "code",
   "execution_count": 0,
   "metadata": {
    "application/vnd.databricks.v1+cell": {
     "cellMetadata": {
      "byteLimit": 2048000,
      "rowLimit": 10000
     },
     "inputWidgets": {},
     "nuid": "6482be4c-f067-47c9-b0ac-35c938b94601",
     "showTitle": false,
     "title": ""
    }
   },
   "outputs": [
    {
     "output_type": "display_data",
     "data": {
      "text/html": [
       "<style scoped>\n",
       "  .table-result-container {\n",
       "    max-height: 300px;\n",
       "    overflow: auto;\n",
       "  }\n",
       "  table, th, td {\n",
       "    border: 1px solid black;\n",
       "    border-collapse: collapse;\n",
       "  }\n",
       "  th, td {\n",
       "    padding: 5px;\n",
       "  }\n",
       "  th {\n",
       "    text-align: left;\n",
       "  }\n",
       "</style><div class='table-result-container'><table class='table-result'><thead style='background-color: white'><tr><th>CustomerID,Genre,Age,Annual Income (k$),Spending Score (1-100)</th></tr></thead><tbody><tr><td>0001,Male,19,15,39</td></tr><tr><td>0002,Male,21,15,81</td></tr><tr><td>0003,Female,20,16,6</td></tr><tr><td>0004,Female,23,16,77</td></tr><tr><td>0005,Female,31,17,40</td></tr><tr><td>0006,Female,22,17,76</td></tr><tr><td>0007,Female,35,18,6</td></tr><tr><td>0008,Female,23,18,94</td></tr><tr><td>0009,Male,64,19,3</td></tr><tr><td>0010,Female,30,19,72</td></tr><tr><td>0011,Male,67,19,14</td></tr><tr><td>0012,Female,35,19,99</td></tr><tr><td>0013,Female,58,20,15</td></tr><tr><td>0014,Female,24,20,77</td></tr><tr><td>0015,Male,37,20,13</td></tr><tr><td>0016,Male,22,20,79</td></tr><tr><td>0017,Female,35,21,35</td></tr><tr><td>0018,Male,20,21,66</td></tr><tr><td>0019,Male,52,23,29</td></tr><tr><td>0020,Female,35,23,98</td></tr><tr><td>0021,Male,35,24,35</td></tr><tr><td>0022,Male,25,24,73</td></tr><tr><td>0023,Female,46,25,5</td></tr><tr><td>0024,Male,31,25,73</td></tr><tr><td>0025,Female,54,28,14</td></tr><tr><td>0026,Male,29,28,82</td></tr><tr><td>0027,Female,45,28,32</td></tr><tr><td>0028,Male,35,28,61</td></tr><tr><td>0029,Female,40,29,31</td></tr><tr><td>0030,Female,23,29,87</td></tr><tr><td>0031,Male,60,30,4</td></tr><tr><td>0032,Female,21,30,73</td></tr><tr><td>0033,Male,53,33,4</td></tr><tr><td>0034,Male,18,33,92</td></tr><tr><td>0035,Female,49,33,14</td></tr><tr><td>0036,Female,21,33,81</td></tr><tr><td>0037,Female,42,34,17</td></tr><tr><td>0038,Female,30,34,73</td></tr><tr><td>0039,Female,36,37,26</td></tr><tr><td>0040,Female,20,37,75</td></tr><tr><td>0041,Female,65,38,35</td></tr><tr><td>0042,Male,24,38,92</td></tr><tr><td>0043,Male,48,39,36</td></tr><tr><td>0044,Female,31,39,61</td></tr><tr><td>0045,Female,49,39,28</td></tr><tr><td>0046,Female,24,39,65</td></tr><tr><td>0047,Female,50,40,55</td></tr><tr><td>0048,Female,27,40,47</td></tr><tr><td>0049,Female,29,40,42</td></tr><tr><td>0050,Female,31,40,42</td></tr><tr><td>0051,Female,49,42,52</td></tr><tr><td>0052,Male,33,42,60</td></tr><tr><td>0053,Female,31,43,54</td></tr><tr><td>0054,Male,59,43,60</td></tr><tr><td>0055,Female,50,43,45</td></tr><tr><td>0056,Male,47,43,41</td></tr><tr><td>0057,Female,51,44,50</td></tr><tr><td>0058,Male,69,44,46</td></tr><tr><td>0059,Female,27,46,51</td></tr><tr><td>0060,Male,53,46,46</td></tr><tr><td>0061,Male,70,46,56</td></tr><tr><td>0062,Male,19,46,55</td></tr><tr><td>0063,Female,67,47,52</td></tr><tr><td>0064,Female,54,47,59</td></tr><tr><td>0065,Male,63,48,51</td></tr><tr><td>0066,Male,18,48,59</td></tr><tr><td>0067,Female,43,48,50</td></tr><tr><td>0068,Female,68,48,48</td></tr><tr><td>0069,Male,19,48,59</td></tr><tr><td>0070,Female,32,48,47</td></tr><tr><td>0071,Male,70,49,55</td></tr><tr><td>0072,Female,47,49,42</td></tr><tr><td>0073,Female,60,50,49</td></tr><tr><td>0074,Female,60,50,56</td></tr><tr><td>0075,Male,59,54,47</td></tr><tr><td>0076,Male,26,54,54</td></tr><tr><td>0077,Female,45,54,53</td></tr><tr><td>0078,Male,40,54,48</td></tr><tr><td>0079,Female,23,54,52</td></tr><tr><td>0080,Female,49,54,42</td></tr><tr><td>0081,Male,57,54,51</td></tr><tr><td>0082,Male,38,54,55</td></tr><tr><td>0083,Male,67,54,41</td></tr><tr><td>0084,Female,46,54,44</td></tr><tr><td>0085,Female,21,54,57</td></tr><tr><td>0086,Male,48,54,46</td></tr><tr><td>0087,Female,55,57,58</td></tr><tr><td>0088,Female,22,57,55</td></tr><tr><td>0089,Female,34,58,60</td></tr><tr><td>0090,Female,50,58,46</td></tr><tr><td>0091,Female,68,59,55</td></tr><tr><td>0092,Male,18,59,41</td></tr><tr><td>0093,Male,48,60,49</td></tr><tr><td>0094,Female,40,60,40</td></tr><tr><td>0095,Female,32,60,42</td></tr><tr><td>0096,Male,24,60,52</td></tr><tr><td>0097,Female,47,60,47</td></tr><tr><td>0098,Female,27,60,50</td></tr><tr><td>0099,Male,48,61,42</td></tr><tr><td>0100,Male,20,61,49</td></tr><tr><td>0101,Female,23,62,41</td></tr><tr><td>0102,Female,49,62,48</td></tr><tr><td>0103,Male,67,62,59</td></tr><tr><td>0104,Male,26,62,55</td></tr><tr><td>0105,Male,49,62,56</td></tr><tr><td>0106,Female,21,62,42</td></tr><tr><td>0107,Female,66,63,50</td></tr><tr><td>0108,Male,54,63,46</td></tr><tr><td>0109,Male,68,63,43</td></tr><tr><td>0110,Male,66,63,48</td></tr><tr><td>0111,Male,65,63,52</td></tr><tr><td>0112,Female,19,63,54</td></tr><tr><td>0113,Female,38,64,42</td></tr><tr><td>0114,Male,19,64,46</td></tr><tr><td>0115,Female,18,65,48</td></tr><tr><td>0116,Female,19,65,50</td></tr><tr><td>0117,Female,63,65,43</td></tr><tr><td>0118,Female,49,65,59</td></tr><tr><td>0119,Female,51,67,43</td></tr><tr><td>0120,Female,50,67,57</td></tr><tr><td>0121,Male,27,67,56</td></tr><tr><td>0122,Female,38,67,40</td></tr><tr><td>0123,Female,40,69,58</td></tr><tr><td>0124,Male,39,69,91</td></tr><tr><td>0125,Female,23,70,29</td></tr><tr><td>0126,Female,31,70,77</td></tr><tr><td>0127,Male,43,71,35</td></tr><tr><td>0128,Male,40,71,95</td></tr><tr><td>0129,Male,59,71,11</td></tr><tr><td>0130,Male,38,71,75</td></tr><tr><td>0131,Male,47,71,9</td></tr><tr><td>0132,Male,39,71,75</td></tr><tr><td>0133,Female,25,72,34</td></tr><tr><td>0134,Female,31,72,71</td></tr><tr><td>0135,Male,20,73,5</td></tr><tr><td>0136,Female,29,73,88</td></tr><tr><td>0137,Female,44,73,7</td></tr><tr><td>0138,Male,32,73,73</td></tr><tr><td>0139,Male,19,74,10</td></tr><tr><td>0140,Female,35,74,72</td></tr><tr><td>0141,Female,57,75,5</td></tr><tr><td>0142,Male,32,75,93</td></tr><tr><td>0143,Female,28,76,40</td></tr><tr><td>0144,Female,32,76,87</td></tr><tr><td>0145,Male,25,77,12</td></tr><tr><td>0146,Male,28,77,97</td></tr><tr><td>0147,Male,48,77,36</td></tr><tr><td>0148,Female,32,77,74</td></tr><tr><td>0149,Female,34,78,22</td></tr><tr><td>0150,Male,34,78,90</td></tr><tr><td>0151,Male,43,78,17</td></tr><tr><td>0152,Male,39,78,88</td></tr><tr><td>0153,Female,44,78,20</td></tr><tr><td>0154,Female,38,78,76</td></tr><tr><td>0155,Female,47,78,16</td></tr><tr><td>0156,Female,27,78,89</td></tr><tr><td>0157,Male,37,78,1</td></tr><tr><td>0158,Female,30,78,78</td></tr><tr><td>0159,Male,34,78,1</td></tr><tr><td>0160,Female,30,78,73</td></tr><tr><td>0161,Female,56,79,35</td></tr><tr><td>0162,Female,29,79,83</td></tr><tr><td>0163,Male,19,81,5</td></tr><tr><td>0164,Female,31,81,93</td></tr><tr><td>0165,Male,50,85,26</td></tr><tr><td>0166,Female,36,85,75</td></tr><tr><td>0167,Male,42,86,20</td></tr><tr><td>0168,Female,33,86,95</td></tr><tr><td>0169,Female,36,87,27</td></tr><tr><td>0170,Male,32,87,63</td></tr><tr><td>0171,Male,40,87,13</td></tr><tr><td>0172,Male,28,87,75</td></tr><tr><td>0173,Male,36,87,10</td></tr><tr><td>0174,Male,36,87,92</td></tr><tr><td>0175,Female,52,88,13</td></tr><tr><td>0176,Female,30,88,86</td></tr><tr><td>0177,Male,58,88,15</td></tr><tr><td>0178,Male,27,88,69</td></tr><tr><td>0179,Male,59,93,14</td></tr><tr><td>0180,Male,35,93,90</td></tr><tr><td>0181,Female,37,97,32</td></tr><tr><td>0182,Female,32,97,86</td></tr><tr><td>0183,Male,46,98,15</td></tr><tr><td>0184,Female,29,98,88</td></tr><tr><td>0185,Female,41,99,39</td></tr><tr><td>0186,Male,30,99,97</td></tr><tr><td>0187,Female,54,101,24</td></tr><tr><td>0188,Male,28,101,68</td></tr><tr><td>0189,Female,41,103,17</td></tr><tr><td>0190,Female,36,103,85</td></tr><tr><td>0191,Female,34,103,23</td></tr><tr><td>0192,Female,32,103,69</td></tr><tr><td>0193,Male,33,113,8</td></tr><tr><td>0194,Female,38,113,91</td></tr><tr><td>0195,Female,47,120,16</td></tr><tr><td>0196,Female,35,120,79</td></tr><tr><td>0197,Female,45,126,28</td></tr><tr><td>0198,Male,32,126,74</td></tr><tr><td>0199,Male,32,137,18</td></tr><tr><td>0200,Male,30,137,83</td></tr></tbody></table></div>"
      ]
     },
     "metadata": {
      "application/vnd.databricks.v1+output": {
       "addedWidgets": {},
       "aggData": [],
       "aggError": "",
       "aggOverflow": false,
       "aggSchema": [],
       "aggSeriesLimitReached": false,
       "aggType": "",
       "arguments": {},
       "columnCustomDisplayInfos": {},
       "data": [
        [
         "0001,Male,19,15,39"
        ],
        [
         "0002,Male,21,15,81"
        ],
        [
         "0003,Female,20,16,6"
        ],
        [
         "0004,Female,23,16,77"
        ],
        [
         "0005,Female,31,17,40"
        ],
        [
         "0006,Female,22,17,76"
        ],
        [
         "0007,Female,35,18,6"
        ],
        [
         "0008,Female,23,18,94"
        ],
        [
         "0009,Male,64,19,3"
        ],
        [
         "0010,Female,30,19,72"
        ],
        [
         "0011,Male,67,19,14"
        ],
        [
         "0012,Female,35,19,99"
        ],
        [
         "0013,Female,58,20,15"
        ],
        [
         "0014,Female,24,20,77"
        ],
        [
         "0015,Male,37,20,13"
        ],
        [
         "0016,Male,22,20,79"
        ],
        [
         "0017,Female,35,21,35"
        ],
        [
         "0018,Male,20,21,66"
        ],
        [
         "0019,Male,52,23,29"
        ],
        [
         "0020,Female,35,23,98"
        ],
        [
         "0021,Male,35,24,35"
        ],
        [
         "0022,Male,25,24,73"
        ],
        [
         "0023,Female,46,25,5"
        ],
        [
         "0024,Male,31,25,73"
        ],
        [
         "0025,Female,54,28,14"
        ],
        [
         "0026,Male,29,28,82"
        ],
        [
         "0027,Female,45,28,32"
        ],
        [
         "0028,Male,35,28,61"
        ],
        [
         "0029,Female,40,29,31"
        ],
        [
         "0030,Female,23,29,87"
        ],
        [
         "0031,Male,60,30,4"
        ],
        [
         "0032,Female,21,30,73"
        ],
        [
         "0033,Male,53,33,4"
        ],
        [
         "0034,Male,18,33,92"
        ],
        [
         "0035,Female,49,33,14"
        ],
        [
         "0036,Female,21,33,81"
        ],
        [
         "0037,Female,42,34,17"
        ],
        [
         "0038,Female,30,34,73"
        ],
        [
         "0039,Female,36,37,26"
        ],
        [
         "0040,Female,20,37,75"
        ],
        [
         "0041,Female,65,38,35"
        ],
        [
         "0042,Male,24,38,92"
        ],
        [
         "0043,Male,48,39,36"
        ],
        [
         "0044,Female,31,39,61"
        ],
        [
         "0045,Female,49,39,28"
        ],
        [
         "0046,Female,24,39,65"
        ],
        [
         "0047,Female,50,40,55"
        ],
        [
         "0048,Female,27,40,47"
        ],
        [
         "0049,Female,29,40,42"
        ],
        [
         "0050,Female,31,40,42"
        ],
        [
         "0051,Female,49,42,52"
        ],
        [
         "0052,Male,33,42,60"
        ],
        [
         "0053,Female,31,43,54"
        ],
        [
         "0054,Male,59,43,60"
        ],
        [
         "0055,Female,50,43,45"
        ],
        [
         "0056,Male,47,43,41"
        ],
        [
         "0057,Female,51,44,50"
        ],
        [
         "0058,Male,69,44,46"
        ],
        [
         "0059,Female,27,46,51"
        ],
        [
         "0060,Male,53,46,46"
        ],
        [
         "0061,Male,70,46,56"
        ],
        [
         "0062,Male,19,46,55"
        ],
        [
         "0063,Female,67,47,52"
        ],
        [
         "0064,Female,54,47,59"
        ],
        [
         "0065,Male,63,48,51"
        ],
        [
         "0066,Male,18,48,59"
        ],
        [
         "0067,Female,43,48,50"
        ],
        [
         "0068,Female,68,48,48"
        ],
        [
         "0069,Male,19,48,59"
        ],
        [
         "0070,Female,32,48,47"
        ],
        [
         "0071,Male,70,49,55"
        ],
        [
         "0072,Female,47,49,42"
        ],
        [
         "0073,Female,60,50,49"
        ],
        [
         "0074,Female,60,50,56"
        ],
        [
         "0075,Male,59,54,47"
        ],
        [
         "0076,Male,26,54,54"
        ],
        [
         "0077,Female,45,54,53"
        ],
        [
         "0078,Male,40,54,48"
        ],
        [
         "0079,Female,23,54,52"
        ],
        [
         "0080,Female,49,54,42"
        ],
        [
         "0081,Male,57,54,51"
        ],
        [
         "0082,Male,38,54,55"
        ],
        [
         "0083,Male,67,54,41"
        ],
        [
         "0084,Female,46,54,44"
        ],
        [
         "0085,Female,21,54,57"
        ],
        [
         "0086,Male,48,54,46"
        ],
        [
         "0087,Female,55,57,58"
        ],
        [
         "0088,Female,22,57,55"
        ],
        [
         "0089,Female,34,58,60"
        ],
        [
         "0090,Female,50,58,46"
        ],
        [
         "0091,Female,68,59,55"
        ],
        [
         "0092,Male,18,59,41"
        ],
        [
         "0093,Male,48,60,49"
        ],
        [
         "0094,Female,40,60,40"
        ],
        [
         "0095,Female,32,60,42"
        ],
        [
         "0096,Male,24,60,52"
        ],
        [
         "0097,Female,47,60,47"
        ],
        [
         "0098,Female,27,60,50"
        ],
        [
         "0099,Male,48,61,42"
        ],
        [
         "0100,Male,20,61,49"
        ],
        [
         "0101,Female,23,62,41"
        ],
        [
         "0102,Female,49,62,48"
        ],
        [
         "0103,Male,67,62,59"
        ],
        [
         "0104,Male,26,62,55"
        ],
        [
         "0105,Male,49,62,56"
        ],
        [
         "0106,Female,21,62,42"
        ],
        [
         "0107,Female,66,63,50"
        ],
        [
         "0108,Male,54,63,46"
        ],
        [
         "0109,Male,68,63,43"
        ],
        [
         "0110,Male,66,63,48"
        ],
        [
         "0111,Male,65,63,52"
        ],
        [
         "0112,Female,19,63,54"
        ],
        [
         "0113,Female,38,64,42"
        ],
        [
         "0114,Male,19,64,46"
        ],
        [
         "0115,Female,18,65,48"
        ],
        [
         "0116,Female,19,65,50"
        ],
        [
         "0117,Female,63,65,43"
        ],
        [
         "0118,Female,49,65,59"
        ],
        [
         "0119,Female,51,67,43"
        ],
        [
         "0120,Female,50,67,57"
        ],
        [
         "0121,Male,27,67,56"
        ],
        [
         "0122,Female,38,67,40"
        ],
        [
         "0123,Female,40,69,58"
        ],
        [
         "0124,Male,39,69,91"
        ],
        [
         "0125,Female,23,70,29"
        ],
        [
         "0126,Female,31,70,77"
        ],
        [
         "0127,Male,43,71,35"
        ],
        [
         "0128,Male,40,71,95"
        ],
        [
         "0129,Male,59,71,11"
        ],
        [
         "0130,Male,38,71,75"
        ],
        [
         "0131,Male,47,71,9"
        ],
        [
         "0132,Male,39,71,75"
        ],
        [
         "0133,Female,25,72,34"
        ],
        [
         "0134,Female,31,72,71"
        ],
        [
         "0135,Male,20,73,5"
        ],
        [
         "0136,Female,29,73,88"
        ],
        [
         "0137,Female,44,73,7"
        ],
        [
         "0138,Male,32,73,73"
        ],
        [
         "0139,Male,19,74,10"
        ],
        [
         "0140,Female,35,74,72"
        ],
        [
         "0141,Female,57,75,5"
        ],
        [
         "0142,Male,32,75,93"
        ],
        [
         "0143,Female,28,76,40"
        ],
        [
         "0144,Female,32,76,87"
        ],
        [
         "0145,Male,25,77,12"
        ],
        [
         "0146,Male,28,77,97"
        ],
        [
         "0147,Male,48,77,36"
        ],
        [
         "0148,Female,32,77,74"
        ],
        [
         "0149,Female,34,78,22"
        ],
        [
         "0150,Male,34,78,90"
        ],
        [
         "0151,Male,43,78,17"
        ],
        [
         "0152,Male,39,78,88"
        ],
        [
         "0153,Female,44,78,20"
        ],
        [
         "0154,Female,38,78,76"
        ],
        [
         "0155,Female,47,78,16"
        ],
        [
         "0156,Female,27,78,89"
        ],
        [
         "0157,Male,37,78,1"
        ],
        [
         "0158,Female,30,78,78"
        ],
        [
         "0159,Male,34,78,1"
        ],
        [
         "0160,Female,30,78,73"
        ],
        [
         "0161,Female,56,79,35"
        ],
        [
         "0162,Female,29,79,83"
        ],
        [
         "0163,Male,19,81,5"
        ],
        [
         "0164,Female,31,81,93"
        ],
        [
         "0165,Male,50,85,26"
        ],
        [
         "0166,Female,36,85,75"
        ],
        [
         "0167,Male,42,86,20"
        ],
        [
         "0168,Female,33,86,95"
        ],
        [
         "0169,Female,36,87,27"
        ],
        [
         "0170,Male,32,87,63"
        ],
        [
         "0171,Male,40,87,13"
        ],
        [
         "0172,Male,28,87,75"
        ],
        [
         "0173,Male,36,87,10"
        ],
        [
         "0174,Male,36,87,92"
        ],
        [
         "0175,Female,52,88,13"
        ],
        [
         "0176,Female,30,88,86"
        ],
        [
         "0177,Male,58,88,15"
        ],
        [
         "0178,Male,27,88,69"
        ],
        [
         "0179,Male,59,93,14"
        ],
        [
         "0180,Male,35,93,90"
        ],
        [
         "0181,Female,37,97,32"
        ],
        [
         "0182,Female,32,97,86"
        ],
        [
         "0183,Male,46,98,15"
        ],
        [
         "0184,Female,29,98,88"
        ],
        [
         "0185,Female,41,99,39"
        ],
        [
         "0186,Male,30,99,97"
        ],
        [
         "0187,Female,54,101,24"
        ],
        [
         "0188,Male,28,101,68"
        ],
        [
         "0189,Female,41,103,17"
        ],
        [
         "0190,Female,36,103,85"
        ],
        [
         "0191,Female,34,103,23"
        ],
        [
         "0192,Female,32,103,69"
        ],
        [
         "0193,Male,33,113,8"
        ],
        [
         "0194,Female,38,113,91"
        ],
        [
         "0195,Female,47,120,16"
        ],
        [
         "0196,Female,35,120,79"
        ],
        [
         "0197,Female,45,126,28"
        ],
        [
         "0198,Male,32,126,74"
        ],
        [
         "0199,Male,32,137,18"
        ],
        [
         "0200,Male,30,137,83"
        ]
       ],
       "datasetInfos": [],
       "dbfsResultPath": null,
       "isJsonSchema": true,
       "metadata": {},
       "overflow": false,
       "plotOptions": {
        "customPlotOptions": {},
        "displayType": "table",
        "pivotAggregation": null,
        "pivotColumns": null,
        "xColumns": null,
        "yColumns": null
       },
       "removedWidgets": [],
       "schema": [
        {
         "metadata": "{}",
         "name": "CustomerID,Genre,Age,Annual Income (k$),Spending Score (1-100)",
         "type": "\"string\""
        }
       ],
       "type": "table"
      }
     },
     "output_type": "display_data"
    }
   ],
   "source": [
    "# File location and type\n",
    "file_location = \"/FileStore/tables/Mall_Customers-1.csv\"\n",
    "file_type = \"csv\"\n",
    "\n",
    "# CSV options\n",
    "infer_schema = \"true\"\n",
    "first_row_is_header = \"true\"\n",
    "delimiter = \";\"\n",
    "\n",
    "# The applied options are for CSV files. For other file types, these will be ignored.\n",
    "df = spark.read.format(file_type) \\\n",
    "  .option(\"inferSchema\", infer_schema) \\\n",
    "  .option(\"header\", first_row_is_header) \\\n",
    "  .option(\"sep\", delimiter) \\\n",
    "  .load(file_location)\n",
    "\n",
    "display(df)"
   ]
  },
  {
   "cell_type": "code",
   "execution_count": 0,
   "metadata": {
    "application/vnd.databricks.v1+cell": {
     "cellMetadata": {
      "byteLimit": 2048000,
      "rowLimit": 10000
     },
     "inputWidgets": {},
     "nuid": "ad1a972b-cf68-4ec2-9f77-44b924104f88",
     "showTitle": false,
     "title": ""
    }
   },
   "outputs": [],
   "source": [
    "# Importar librerías necesarias\n",
    "from pyspark.sql import SparkSession\n",
    "\n",
    "# Crear una sesión de Spark\n",
    "spark = SparkSession.builder.appName(\"MallCustomers\").getOrCreate()\n",
    "\n",
    "# Cargar el dataset desde el almacenamiento\n",
    "df = spark.read.option(\"header\", \"true\").csv(\"/FileStore/tables/Mall_Customers-1.csv\")\n",
    "\n",
    "# Crear una vista temporal\n",
    "df.createOrReplaceTempView(\"customers_view\")\n"
   ]
  },
  {
   "cell_type": "code",
   "execution_count": 0,
   "metadata": {
    "application/vnd.databricks.v1+cell": {
     "cellMetadata": {
      "byteLimit": 2048000,
      "rowLimit": 10000
     },
     "inputWidgets": {},
     "nuid": "a87e13eb-4167-40f1-8302-da36a236a277",
     "showTitle": false,
     "title": ""
    }
   },
   "outputs": [
    {
     "output_type": "stream",
     "name": "stdout",
     "output_type": "stream",
     "text": [
      "+------+-----+\n| Genre|Total|\n+------+-----+\n|Female|  112|\n|  Male|   88|\n+------+-----+\n\n"
     ]
    }
   ],
   "source": [
    "# Consultar la cantidad de clientes por género\n",
    "spark.sql(\"SELECT Genre, COUNT(*) AS Total FROM customers_view GROUP BY Genre\").show()"
   ]
  },
  {
   "cell_type": "code",
   "execution_count": 0,
   "metadata": {
    "application/vnd.databricks.v1+cell": {
     "cellMetadata": {
      "byteLimit": 2048000,
      "rowLimit": 10000
     },
     "inputWidgets": {},
     "nuid": "b5dd3557-9a7c-48ea-a091-5eddb000cccd",
     "showTitle": false,
     "title": ""
    }
   },
   "outputs": [
    {
     "output_type": "stream",
     "name": "stdout",
     "output_type": "stream",
     "text": [
      "+------+------------------+\n| Genre|      Avg_Spending|\n+------+------------------+\n|Female|51.526785714285715|\n|  Male| 48.51136363636363|\n+------+------------------+\n\n"
     ]
    }
   ],
   "source": [
    "# Consultar el gasto promedio por género\n",
    "spark.sql(\"SELECT Genre, AVG(`Spending Score (1-100)`) AS Avg_Spending FROM customers_view GROUP BY Genre\").show()\n"
   ]
  },
  {
   "cell_type": "code",
   "execution_count": 0,
   "metadata": {
    "application/vnd.databricks.v1+cell": {
     "cellMetadata": {
      "byteLimit": 2048000,
      "rowLimit": 10000
     },
     "inputWidgets": {},
     "nuid": "f3e6bb8f-8e8f-473f-bb67-d919fa756fbc",
     "showTitle": false,
     "title": ""
    }
   },
   "outputs": [
    {
     "output_type": "stream",
     "name": "stdout",
     "output_type": "stream",
     "text": [
      "+----------+------+---+------------------+----------------------+\n|CustomerID| Genre|Age|Annual Income (k$)|Spending Score (1-100)|\n+----------+------+---+------------------+----------------------+\n|      0127|  Male| 43|                71|                    35|\n|      0128|  Male| 40|                71|                    95|\n|      0129|  Male| 59|                71|                    11|\n|      0130|  Male| 38|                71|                    75|\n|      0131|  Male| 47|                71|                     9|\n|      0132|  Male| 39|                71|                    75|\n|      0133|Female| 25|                72|                    34|\n|      0134|Female| 31|                72|                    71|\n|      0135|  Male| 20|                73|                     5|\n|      0136|Female| 29|                73|                    88|\n|      0137|Female| 44|                73|                     7|\n|      0138|  Male| 32|                73|                    73|\n|      0139|  Male| 19|                74|                    10|\n|      0140|Female| 35|                74|                    72|\n|      0141|Female| 57|                75|                     5|\n|      0142|  Male| 32|                75|                    93|\n|      0143|Female| 28|                76|                    40|\n|      0144|Female| 32|                76|                    87|\n|      0145|  Male| 25|                77|                    12|\n|      0146|  Male| 28|                77|                    97|\n+----------+------+---+------------------+----------------------+\nonly showing top 20 rows\n\n"
     ]
    }
   ],
   "source": [
    "# Consultar los clientes que tienen un ingreso anual mayor a 70,000\n",
    "spark.sql(\"SELECT * FROM customers_view WHERE `Annual Income (k$)` > 70\").show()\n"
   ]
  },
  {
   "cell_type": "code",
   "execution_count": 0,
   "metadata": {
    "application/vnd.databricks.v1+cell": {
     "cellMetadata": {
      "byteLimit": 2048000,
      "rowLimit": 10000
     },
     "inputWidgets": {},
     "nuid": "867708f4-6831-4bdc-ba5c-f641f7d51e3a",
     "showTitle": false,
     "title": ""
    }
   },
   "outputs": [
    {
     "output_type": "stream",
     "name": "stdout",
     "output_type": "stream",
     "text": [
      "+----------+------+---+------------------+----------------------+\n|CustomerID| Genre|Age|Annual Income (k$)|Spending Score (1-100)|\n+----------+------+---+------------------+----------------------+\n|      0012|Female| 35|                19|                    99|\n|      0020|Female| 35|                23|                    98|\n|      0146|  Male| 28|                77|                    97|\n|      0186|  Male| 30|                99|                    97|\n|      0128|  Male| 40|                71|                    95|\n|      0168|Female| 33|                86|                    95|\n|      0008|Female| 23|                18|                    94|\n|      0142|  Male| 32|                75|                    93|\n|      0164|Female| 31|                81|                    93|\n|      0042|  Male| 24|                38|                    92|\n|      0034|  Male| 18|                33|                    92|\n|      0174|  Male| 36|                87|                    92|\n|      0124|  Male| 39|                69|                    91|\n|      0194|Female| 38|               113|                    91|\n|      0150|  Male| 34|                78|                    90|\n|      0180|  Male| 35|                93|                    90|\n|      0131|  Male| 47|                71|                     9|\n|      0156|Female| 27|                78|                    89|\n|      0136|Female| 29|                73|                    88|\n|      0152|  Male| 39|                78|                    88|\n+----------+------+---+------------------+----------------------+\nonly showing top 20 rows\n\n"
     ]
    }
   ],
   "source": [
    "# Consultar los clientes ordenados por el puntaje de gasto en orden descendente\n",
    "spark.sql(\"SELECT * FROM customers_view ORDER BY `Spending Score (1-100)` DESC\").show()\n"
   ]
  },
  {
   "cell_type": "code",
   "execution_count": 0,
   "metadata": {
    "application/vnd.databricks.v1+cell": {
     "cellMetadata": {
      "byteLimit": 2048000,
      "implicitDf": true,
      "rowLimit": 10000
     },
     "inputWidgets": {},
     "nuid": "598ad00e-cb7e-4f08-8e51-6a0b7458ae53",
     "showTitle": false,
     "title": ""
    }
   },
   "outputs": [
    {
     "output_type": "display_data",
     "data": {
      "text/html": [
       "<style scoped>\n",
       "  .table-result-container {\n",
       "    max-height: 300px;\n",
       "    overflow: auto;\n",
       "  }\n",
       "  table, th, td {\n",
       "    border: 1px solid black;\n",
       "    border-collapse: collapse;\n",
       "  }\n",
       "  th, td {\n",
       "    padding: 5px;\n",
       "  }\n",
       "  th {\n",
       "    text-align: left;\n",
       "  }\n",
       "</style><div class='table-result-container'><table class='table-result'><thead style='background-color: white'><tr><th>Genre</th><th>Total</th></tr></thead><tbody><tr><td>Female</td><td>112</td></tr><tr><td>Male</td><td>88</td></tr></tbody></table></div>"
      ]
     },
     "metadata": {
      "application/vnd.databricks.v1+output": {
       "addedWidgets": {},
       "aggData": [],
       "aggError": "",
       "aggOverflow": false,
       "aggSchema": [],
       "aggSeriesLimitReached": false,
       "aggType": "",
       "arguments": {},
       "columnCustomDisplayInfos": {},
       "data": [
        [
         "Female",
         112
        ],
        [
         "Male",
         88
        ]
       ],
       "datasetInfos": [],
       "dbfsResultPath": null,
       "isJsonSchema": true,
       "metadata": {},
       "overflow": false,
       "plotOptions": {
        "customPlotOptions": {},
        "displayType": "table",
        "pivotAggregation": null,
        "pivotColumns": null,
        "xColumns": null,
        "yColumns": null
       },
       "removedWidgets": [],
       "schema": [
        {
         "metadata": "{}",
         "name": "Genre",
         "type": "\"string\""
        },
        {
         "metadata": "{}",
         "name": "Total",
         "type": "\"long\""
        }
       ],
       "type": "table"
      }
     },
     "output_type": "display_data"
    }
   ],
   "source": [
    "%sql\n",
    "-- Clientes por genero\n",
    "SELECT Genre, COUNT(*) AS Total FROM customers_view GROUP BY Genre;\n"
   ]
  },
  {
   "cell_type": "code",
   "execution_count": 0,
   "metadata": {
    "application/vnd.databricks.v1+cell": {
     "cellMetadata": {
      "byteLimit": 2048000,
      "implicitDf": true,
      "rowLimit": 10000
     },
     "inputWidgets": {},
     "nuid": "679ffc80-93a4-476b-aef8-bdb3655090e3",
     "showTitle": false,
     "title": ""
    }
   },
   "outputs": [
    {
     "output_type": "display_data",
     "data": {
      "text/html": [
       "<style scoped>\n",
       "  .table-result-container {\n",
       "    max-height: 300px;\n",
       "    overflow: auto;\n",
       "  }\n",
       "  table, th, td {\n",
       "    border: 1px solid black;\n",
       "    border-collapse: collapse;\n",
       "  }\n",
       "  th, td {\n",
       "    padding: 5px;\n",
       "  }\n",
       "  th {\n",
       "    text-align: left;\n",
       "  }\n",
       "</style><div class='table-result-container'><table class='table-result'><thead style='background-color: white'><tr><th>Genre</th><th>Avg_Spending</th></tr></thead><tbody><tr><td>Female</td><td>51.526785714285715</td></tr><tr><td>Male</td><td>48.51136363636363</td></tr></tbody></table></div>"
      ]
     },
     "metadata": {
      "application/vnd.databricks.v1+output": {
       "addedWidgets": {},
       "aggData": [],
       "aggError": "",
       "aggOverflow": false,
       "aggSchema": [],
       "aggSeriesLimitReached": false,
       "aggType": "",
       "arguments": {},
       "columnCustomDisplayInfos": {},
       "data": [
        [
         "Female",
         51.526785714285715
        ],
        [
         "Male",
         48.51136363636363
        ]
       ],
       "datasetInfos": [],
       "dbfsResultPath": null,
       "isJsonSchema": true,
       "metadata": {},
       "overflow": false,
       "plotOptions": {
        "customPlotOptions": {},
        "displayType": "table",
        "pivotAggregation": null,
        "pivotColumns": null,
        "xColumns": null,
        "yColumns": null
       },
       "removedWidgets": [],
       "schema": [
        {
         "metadata": "{}",
         "name": "Genre",
         "type": "\"string\""
        },
        {
         "metadata": "{}",
         "name": "Avg_Spending",
         "type": "\"double\""
        }
       ],
       "type": "table"
      }
     },
     "output_type": "display_data"
    }
   ],
   "source": [
    "%sql\n",
    "--Gasto promedio por genero\n",
    "SELECT Genre, AVG(`Spending Score (1-100)`) AS Avg_Spending \n",
    "FROM customers_view \n",
    "GROUP BY Genre;\n"
   ]
  },
  {
   "cell_type": "code",
   "execution_count": 0,
   "metadata": {
    "application/vnd.databricks.v1+cell": {
     "cellMetadata": {
      "byteLimit": 2048000,
      "implicitDf": true,
      "rowLimit": 10000
     },
     "inputWidgets": {},
     "nuid": "407ee552-4342-4853-a0f1-2bfaaf130f4e",
     "showTitle": false,
     "title": ""
    }
   },
   "outputs": [
    {
     "output_type": "display_data",
     "data": {
      "text/html": [
       "<style scoped>\n",
       "  .table-result-container {\n",
       "    max-height: 300px;\n",
       "    overflow: auto;\n",
       "  }\n",
       "  table, th, td {\n",
       "    border: 1px solid black;\n",
       "    border-collapse: collapse;\n",
       "  }\n",
       "  th, td {\n",
       "    padding: 5px;\n",
       "  }\n",
       "  th {\n",
       "    text-align: left;\n",
       "  }\n",
       "</style><div class='table-result-container'><table class='table-result'><thead style='background-color: white'><tr><th>CustomerID</th><th>Genre</th><th>Age</th><th>Annual Income (k$)</th><th>Spending Score (1-100)</th></tr></thead><tbody><tr><td>0127</td><td>Male</td><td>43</td><td>71</td><td>35</td></tr><tr><td>0128</td><td>Male</td><td>40</td><td>71</td><td>95</td></tr><tr><td>0129</td><td>Male</td><td>59</td><td>71</td><td>11</td></tr><tr><td>0130</td><td>Male</td><td>38</td><td>71</td><td>75</td></tr><tr><td>0131</td><td>Male</td><td>47</td><td>71</td><td>9</td></tr><tr><td>0132</td><td>Male</td><td>39</td><td>71</td><td>75</td></tr><tr><td>0133</td><td>Female</td><td>25</td><td>72</td><td>34</td></tr><tr><td>0134</td><td>Female</td><td>31</td><td>72</td><td>71</td></tr><tr><td>0135</td><td>Male</td><td>20</td><td>73</td><td>5</td></tr><tr><td>0136</td><td>Female</td><td>29</td><td>73</td><td>88</td></tr><tr><td>0137</td><td>Female</td><td>44</td><td>73</td><td>7</td></tr><tr><td>0138</td><td>Male</td><td>32</td><td>73</td><td>73</td></tr><tr><td>0139</td><td>Male</td><td>19</td><td>74</td><td>10</td></tr><tr><td>0140</td><td>Female</td><td>35</td><td>74</td><td>72</td></tr><tr><td>0141</td><td>Female</td><td>57</td><td>75</td><td>5</td></tr><tr><td>0142</td><td>Male</td><td>32</td><td>75</td><td>93</td></tr><tr><td>0143</td><td>Female</td><td>28</td><td>76</td><td>40</td></tr><tr><td>0144</td><td>Female</td><td>32</td><td>76</td><td>87</td></tr><tr><td>0145</td><td>Male</td><td>25</td><td>77</td><td>12</td></tr><tr><td>0146</td><td>Male</td><td>28</td><td>77</td><td>97</td></tr><tr><td>0147</td><td>Male</td><td>48</td><td>77</td><td>36</td></tr><tr><td>0148</td><td>Female</td><td>32</td><td>77</td><td>74</td></tr><tr><td>0149</td><td>Female</td><td>34</td><td>78</td><td>22</td></tr><tr><td>0150</td><td>Male</td><td>34</td><td>78</td><td>90</td></tr><tr><td>0151</td><td>Male</td><td>43</td><td>78</td><td>17</td></tr><tr><td>0152</td><td>Male</td><td>39</td><td>78</td><td>88</td></tr><tr><td>0153</td><td>Female</td><td>44</td><td>78</td><td>20</td></tr><tr><td>0154</td><td>Female</td><td>38</td><td>78</td><td>76</td></tr><tr><td>0155</td><td>Female</td><td>47</td><td>78</td><td>16</td></tr><tr><td>0156</td><td>Female</td><td>27</td><td>78</td><td>89</td></tr><tr><td>0157</td><td>Male</td><td>37</td><td>78</td><td>1</td></tr><tr><td>0158</td><td>Female</td><td>30</td><td>78</td><td>78</td></tr><tr><td>0159</td><td>Male</td><td>34</td><td>78</td><td>1</td></tr><tr><td>0160</td><td>Female</td><td>30</td><td>78</td><td>73</td></tr><tr><td>0161</td><td>Female</td><td>56</td><td>79</td><td>35</td></tr><tr><td>0162</td><td>Female</td><td>29</td><td>79</td><td>83</td></tr><tr><td>0163</td><td>Male</td><td>19</td><td>81</td><td>5</td></tr><tr><td>0164</td><td>Female</td><td>31</td><td>81</td><td>93</td></tr><tr><td>0165</td><td>Male</td><td>50</td><td>85</td><td>26</td></tr><tr><td>0166</td><td>Female</td><td>36</td><td>85</td><td>75</td></tr><tr><td>0167</td><td>Male</td><td>42</td><td>86</td><td>20</td></tr><tr><td>0168</td><td>Female</td><td>33</td><td>86</td><td>95</td></tr><tr><td>0169</td><td>Female</td><td>36</td><td>87</td><td>27</td></tr><tr><td>0170</td><td>Male</td><td>32</td><td>87</td><td>63</td></tr><tr><td>0171</td><td>Male</td><td>40</td><td>87</td><td>13</td></tr><tr><td>0172</td><td>Male</td><td>28</td><td>87</td><td>75</td></tr><tr><td>0173</td><td>Male</td><td>36</td><td>87</td><td>10</td></tr><tr><td>0174</td><td>Male</td><td>36</td><td>87</td><td>92</td></tr><tr><td>0175</td><td>Female</td><td>52</td><td>88</td><td>13</td></tr><tr><td>0176</td><td>Female</td><td>30</td><td>88</td><td>86</td></tr><tr><td>0177</td><td>Male</td><td>58</td><td>88</td><td>15</td></tr><tr><td>0178</td><td>Male</td><td>27</td><td>88</td><td>69</td></tr><tr><td>0179</td><td>Male</td><td>59</td><td>93</td><td>14</td></tr><tr><td>0180</td><td>Male</td><td>35</td><td>93</td><td>90</td></tr><tr><td>0181</td><td>Female</td><td>37</td><td>97</td><td>32</td></tr><tr><td>0182</td><td>Female</td><td>32</td><td>97</td><td>86</td></tr><tr><td>0183</td><td>Male</td><td>46</td><td>98</td><td>15</td></tr><tr><td>0184</td><td>Female</td><td>29</td><td>98</td><td>88</td></tr><tr><td>0185</td><td>Female</td><td>41</td><td>99</td><td>39</td></tr><tr><td>0186</td><td>Male</td><td>30</td><td>99</td><td>97</td></tr><tr><td>0187</td><td>Female</td><td>54</td><td>101</td><td>24</td></tr><tr><td>0188</td><td>Male</td><td>28</td><td>101</td><td>68</td></tr><tr><td>0189</td><td>Female</td><td>41</td><td>103</td><td>17</td></tr><tr><td>0190</td><td>Female</td><td>36</td><td>103</td><td>85</td></tr><tr><td>0191</td><td>Female</td><td>34</td><td>103</td><td>23</td></tr><tr><td>0192</td><td>Female</td><td>32</td><td>103</td><td>69</td></tr><tr><td>0193</td><td>Male</td><td>33</td><td>113</td><td>8</td></tr><tr><td>0194</td><td>Female</td><td>38</td><td>113</td><td>91</td></tr><tr><td>0195</td><td>Female</td><td>47</td><td>120</td><td>16</td></tr><tr><td>0196</td><td>Female</td><td>35</td><td>120</td><td>79</td></tr><tr><td>0197</td><td>Female</td><td>45</td><td>126</td><td>28</td></tr><tr><td>0198</td><td>Male</td><td>32</td><td>126</td><td>74</td></tr><tr><td>0199</td><td>Male</td><td>32</td><td>137</td><td>18</td></tr><tr><td>0200</td><td>Male</td><td>30</td><td>137</td><td>83</td></tr></tbody></table></div>"
      ]
     },
     "metadata": {
      "application/vnd.databricks.v1+output": {
       "addedWidgets": {},
       "aggData": [],
       "aggError": "",
       "aggOverflow": false,
       "aggSchema": [],
       "aggSeriesLimitReached": false,
       "aggType": "",
       "arguments": {},
       "columnCustomDisplayInfos": {},
       "data": [
        [
         "0127",
         "Male",
         "43",
         "71",
         "35"
        ],
        [
         "0128",
         "Male",
         "40",
         "71",
         "95"
        ],
        [
         "0129",
         "Male",
         "59",
         "71",
         "11"
        ],
        [
         "0130",
         "Male",
         "38",
         "71",
         "75"
        ],
        [
         "0131",
         "Male",
         "47",
         "71",
         "9"
        ],
        [
         "0132",
         "Male",
         "39",
         "71",
         "75"
        ],
        [
         "0133",
         "Female",
         "25",
         "72",
         "34"
        ],
        [
         "0134",
         "Female",
         "31",
         "72",
         "71"
        ],
        [
         "0135",
         "Male",
         "20",
         "73",
         "5"
        ],
        [
         "0136",
         "Female",
         "29",
         "73",
         "88"
        ],
        [
         "0137",
         "Female",
         "44",
         "73",
         "7"
        ],
        [
         "0138",
         "Male",
         "32",
         "73",
         "73"
        ],
        [
         "0139",
         "Male",
         "19",
         "74",
         "10"
        ],
        [
         "0140",
         "Female",
         "35",
         "74",
         "72"
        ],
        [
         "0141",
         "Female",
         "57",
         "75",
         "5"
        ],
        [
         "0142",
         "Male",
         "32",
         "75",
         "93"
        ],
        [
         "0143",
         "Female",
         "28",
         "76",
         "40"
        ],
        [
         "0144",
         "Female",
         "32",
         "76",
         "87"
        ],
        [
         "0145",
         "Male",
         "25",
         "77",
         "12"
        ],
        [
         "0146",
         "Male",
         "28",
         "77",
         "97"
        ],
        [
         "0147",
         "Male",
         "48",
         "77",
         "36"
        ],
        [
         "0148",
         "Female",
         "32",
         "77",
         "74"
        ],
        [
         "0149",
         "Female",
         "34",
         "78",
         "22"
        ],
        [
         "0150",
         "Male",
         "34",
         "78",
         "90"
        ],
        [
         "0151",
         "Male",
         "43",
         "78",
         "17"
        ],
        [
         "0152",
         "Male",
         "39",
         "78",
         "88"
        ],
        [
         "0153",
         "Female",
         "44",
         "78",
         "20"
        ],
        [
         "0154",
         "Female",
         "38",
         "78",
         "76"
        ],
        [
         "0155",
         "Female",
         "47",
         "78",
         "16"
        ],
        [
         "0156",
         "Female",
         "27",
         "78",
         "89"
        ],
        [
         "0157",
         "Male",
         "37",
         "78",
         "1"
        ],
        [
         "0158",
         "Female",
         "30",
         "78",
         "78"
        ],
        [
         "0159",
         "Male",
         "34",
         "78",
         "1"
        ],
        [
         "0160",
         "Female",
         "30",
         "78",
         "73"
        ],
        [
         "0161",
         "Female",
         "56",
         "79",
         "35"
        ],
        [
         "0162",
         "Female",
         "29",
         "79",
         "83"
        ],
        [
         "0163",
         "Male",
         "19",
         "81",
         "5"
        ],
        [
         "0164",
         "Female",
         "31",
         "81",
         "93"
        ],
        [
         "0165",
         "Male",
         "50",
         "85",
         "26"
        ],
        [
         "0166",
         "Female",
         "36",
         "85",
         "75"
        ],
        [
         "0167",
         "Male",
         "42",
         "86",
         "20"
        ],
        [
         "0168",
         "Female",
         "33",
         "86",
         "95"
        ],
        [
         "0169",
         "Female",
         "36",
         "87",
         "27"
        ],
        [
         "0170",
         "Male",
         "32",
         "87",
         "63"
        ],
        [
         "0171",
         "Male",
         "40",
         "87",
         "13"
        ],
        [
         "0172",
         "Male",
         "28",
         "87",
         "75"
        ],
        [
         "0173",
         "Male",
         "36",
         "87",
         "10"
        ],
        [
         "0174",
         "Male",
         "36",
         "87",
         "92"
        ],
        [
         "0175",
         "Female",
         "52",
         "88",
         "13"
        ],
        [
         "0176",
         "Female",
         "30",
         "88",
         "86"
        ],
        [
         "0177",
         "Male",
         "58",
         "88",
         "15"
        ],
        [
         "0178",
         "Male",
         "27",
         "88",
         "69"
        ],
        [
         "0179",
         "Male",
         "59",
         "93",
         "14"
        ],
        [
         "0180",
         "Male",
         "35",
         "93",
         "90"
        ],
        [
         "0181",
         "Female",
         "37",
         "97",
         "32"
        ],
        [
         "0182",
         "Female",
         "32",
         "97",
         "86"
        ],
        [
         "0183",
         "Male",
         "46",
         "98",
         "15"
        ],
        [
         "0184",
         "Female",
         "29",
         "98",
         "88"
        ],
        [
         "0185",
         "Female",
         "41",
         "99",
         "39"
        ],
        [
         "0186",
         "Male",
         "30",
         "99",
         "97"
        ],
        [
         "0187",
         "Female",
         "54",
         "101",
         "24"
        ],
        [
         "0188",
         "Male",
         "28",
         "101",
         "68"
        ],
        [
         "0189",
         "Female",
         "41",
         "103",
         "17"
        ],
        [
         "0190",
         "Female",
         "36",
         "103",
         "85"
        ],
        [
         "0191",
         "Female",
         "34",
         "103",
         "23"
        ],
        [
         "0192",
         "Female",
         "32",
         "103",
         "69"
        ],
        [
         "0193",
         "Male",
         "33",
         "113",
         "8"
        ],
        [
         "0194",
         "Female",
         "38",
         "113",
         "91"
        ],
        [
         "0195",
         "Female",
         "47",
         "120",
         "16"
        ],
        [
         "0196",
         "Female",
         "35",
         "120",
         "79"
        ],
        [
         "0197",
         "Female",
         "45",
         "126",
         "28"
        ],
        [
         "0198",
         "Male",
         "32",
         "126",
         "74"
        ],
        [
         "0199",
         "Male",
         "32",
         "137",
         "18"
        ],
        [
         "0200",
         "Male",
         "30",
         "137",
         "83"
        ]
       ],
       "datasetInfos": [],
       "dbfsResultPath": null,
       "isJsonSchema": true,
       "metadata": {},
       "overflow": false,
       "plotOptions": {
        "customPlotOptions": {},
        "displayType": "table",
        "pivotAggregation": null,
        "pivotColumns": null,
        "xColumns": null,
        "yColumns": null
       },
       "removedWidgets": [],
       "schema": [
        {
         "metadata": "{}",
         "name": "CustomerID",
         "type": "\"string\""
        },
        {
         "metadata": "{}",
         "name": "Genre",
         "type": "\"string\""
        },
        {
         "metadata": "{}",
         "name": "Age",
         "type": "\"string\""
        },
        {
         "metadata": "{}",
         "name": "Annual Income (k$)",
         "type": "\"string\""
        },
        {
         "metadata": "{}",
         "name": "Spending Score (1-100)",
         "type": "\"string\""
        }
       ],
       "type": "table"
      }
     },
     "output_type": "display_data"
    }
   ],
   "source": [
    "%sql\n",
    "--Consultar los clientes que tienen un ingreso anual mayor a 70,000\n",
    "SELECT * \n",
    "FROM customers_view \n",
    "WHERE `Annual Income (k$)` > 70;\n"
   ]
  },
  {
   "cell_type": "code",
   "execution_count": 0,
   "metadata": {
    "application/vnd.databricks.v1+cell": {
     "cellMetadata": {
      "byteLimit": 2048000,
      "implicitDf": true,
      "rowLimit": 10000
     },
     "inputWidgets": {},
     "nuid": "176d57f9-9aca-4a87-a319-09b4e0e1775f",
     "showTitle": false,
     "title": ""
    }
   },
   "outputs": [
    {
     "output_type": "display_data",
     "data": {
      "text/html": [
       "<style scoped>\n",
       "  .table-result-container {\n",
       "    max-height: 300px;\n",
       "    overflow: auto;\n",
       "  }\n",
       "  table, th, td {\n",
       "    border: 1px solid black;\n",
       "    border-collapse: collapse;\n",
       "  }\n",
       "  th, td {\n",
       "    padding: 5px;\n",
       "  }\n",
       "  th {\n",
       "    text-align: left;\n",
       "  }\n",
       "</style><div class='table-result-container'><table class='table-result'><thead style='background-color: white'><tr><th>CustomerID</th><th>Genre</th><th>Age</th><th>Annual Income (k$)</th><th>Spending Score (1-100)</th></tr></thead><tbody><tr><td>0012</td><td>Female</td><td>35</td><td>19</td><td>99</td></tr><tr><td>0020</td><td>Female</td><td>35</td><td>23</td><td>98</td></tr><tr><td>0146</td><td>Male</td><td>28</td><td>77</td><td>97</td></tr><tr><td>0186</td><td>Male</td><td>30</td><td>99</td><td>97</td></tr><tr><td>0128</td><td>Male</td><td>40</td><td>71</td><td>95</td></tr><tr><td>0168</td><td>Female</td><td>33</td><td>86</td><td>95</td></tr><tr><td>0008</td><td>Female</td><td>23</td><td>18</td><td>94</td></tr><tr><td>0142</td><td>Male</td><td>32</td><td>75</td><td>93</td></tr><tr><td>0164</td><td>Female</td><td>31</td><td>81</td><td>93</td></tr><tr><td>0034</td><td>Male</td><td>18</td><td>33</td><td>92</td></tr><tr><td>0042</td><td>Male</td><td>24</td><td>38</td><td>92</td></tr><tr><td>0174</td><td>Male</td><td>36</td><td>87</td><td>92</td></tr><tr><td>0124</td><td>Male</td><td>39</td><td>69</td><td>91</td></tr><tr><td>0194</td><td>Female</td><td>38</td><td>113</td><td>91</td></tr><tr><td>0150</td><td>Male</td><td>34</td><td>78</td><td>90</td></tr><tr><td>0180</td><td>Male</td><td>35</td><td>93</td><td>90</td></tr><tr><td>0131</td><td>Male</td><td>47</td><td>71</td><td>9</td></tr><tr><td>0156</td><td>Female</td><td>27</td><td>78</td><td>89</td></tr><tr><td>0136</td><td>Female</td><td>29</td><td>73</td><td>88</td></tr><tr><td>0152</td><td>Male</td><td>39</td><td>78</td><td>88</td></tr><tr><td>0184</td><td>Female</td><td>29</td><td>98</td><td>88</td></tr><tr><td>0030</td><td>Female</td><td>23</td><td>29</td><td>87</td></tr><tr><td>0144</td><td>Female</td><td>32</td><td>76</td><td>87</td></tr><tr><td>0176</td><td>Female</td><td>30</td><td>88</td><td>86</td></tr><tr><td>0182</td><td>Female</td><td>32</td><td>97</td><td>86</td></tr><tr><td>0190</td><td>Female</td><td>36</td><td>103</td><td>85</td></tr><tr><td>0162</td><td>Female</td><td>29</td><td>79</td><td>83</td></tr><tr><td>0200</td><td>Male</td><td>30</td><td>137</td><td>83</td></tr><tr><td>0026</td><td>Male</td><td>29</td><td>28</td><td>82</td></tr><tr><td>0002</td><td>Male</td><td>21</td><td>15</td><td>81</td></tr><tr><td>0036</td><td>Female</td><td>21</td><td>33</td><td>81</td></tr><tr><td>0193</td><td>Male</td><td>33</td><td>113</td><td>8</td></tr><tr><td>0016</td><td>Male</td><td>22</td><td>20</td><td>79</td></tr><tr><td>0196</td><td>Female</td><td>35</td><td>120</td><td>79</td></tr><tr><td>0158</td><td>Female</td><td>30</td><td>78</td><td>78</td></tr><tr><td>0004</td><td>Female</td><td>23</td><td>16</td><td>77</td></tr><tr><td>0014</td><td>Female</td><td>24</td><td>20</td><td>77</td></tr><tr><td>0126</td><td>Female</td><td>31</td><td>70</td><td>77</td></tr><tr><td>0006</td><td>Female</td><td>22</td><td>17</td><td>76</td></tr><tr><td>0154</td><td>Female</td><td>38</td><td>78</td><td>76</td></tr><tr><td>0040</td><td>Female</td><td>20</td><td>37</td><td>75</td></tr><tr><td>0130</td><td>Male</td><td>38</td><td>71</td><td>75</td></tr><tr><td>0132</td><td>Male</td><td>39</td><td>71</td><td>75</td></tr><tr><td>0166</td><td>Female</td><td>36</td><td>85</td><td>75</td></tr><tr><td>0172</td><td>Male</td><td>28</td><td>87</td><td>75</td></tr><tr><td>0148</td><td>Female</td><td>32</td><td>77</td><td>74</td></tr><tr><td>0198</td><td>Male</td><td>32</td><td>126</td><td>74</td></tr><tr><td>0022</td><td>Male</td><td>25</td><td>24</td><td>73</td></tr><tr><td>0024</td><td>Male</td><td>31</td><td>25</td><td>73</td></tr><tr><td>0032</td><td>Female</td><td>21</td><td>30</td><td>73</td></tr><tr><td>0038</td><td>Female</td><td>30</td><td>34</td><td>73</td></tr><tr><td>0138</td><td>Male</td><td>32</td><td>73</td><td>73</td></tr><tr><td>0160</td><td>Female</td><td>30</td><td>78</td><td>73</td></tr><tr><td>0010</td><td>Female</td><td>30</td><td>19</td><td>72</td></tr><tr><td>0140</td><td>Female</td><td>35</td><td>74</td><td>72</td></tr><tr><td>0134</td><td>Female</td><td>31</td><td>72</td><td>71</td></tr><tr><td>0137</td><td>Female</td><td>44</td><td>73</td><td>7</td></tr><tr><td>0178</td><td>Male</td><td>27</td><td>88</td><td>69</td></tr><tr><td>0192</td><td>Female</td><td>32</td><td>103</td><td>69</td></tr><tr><td>0188</td><td>Male</td><td>28</td><td>101</td><td>68</td></tr><tr><td>0018</td><td>Male</td><td>20</td><td>21</td><td>66</td></tr><tr><td>0046</td><td>Female</td><td>24</td><td>39</td><td>65</td></tr><tr><td>0170</td><td>Male</td><td>32</td><td>87</td><td>63</td></tr><tr><td>0028</td><td>Male</td><td>35</td><td>28</td><td>61</td></tr><tr><td>0044</td><td>Female</td><td>31</td><td>39</td><td>61</td></tr><tr><td>0052</td><td>Male</td><td>33</td><td>42</td><td>60</td></tr><tr><td>0054</td><td>Male</td><td>59</td><td>43</td><td>60</td></tr><tr><td>0089</td><td>Female</td><td>34</td><td>58</td><td>60</td></tr><tr><td>0003</td><td>Female</td><td>20</td><td>16</td><td>6</td></tr><tr><td>0007</td><td>Female</td><td>35</td><td>18</td><td>6</td></tr><tr><td>0064</td><td>Female</td><td>54</td><td>47</td><td>59</td></tr><tr><td>0066</td><td>Male</td><td>18</td><td>48</td><td>59</td></tr><tr><td>0069</td><td>Male</td><td>19</td><td>48</td><td>59</td></tr><tr><td>0103</td><td>Male</td><td>67</td><td>62</td><td>59</td></tr><tr><td>0118</td><td>Female</td><td>49</td><td>65</td><td>59</td></tr><tr><td>0087</td><td>Female</td><td>55</td><td>57</td><td>58</td></tr><tr><td>0123</td><td>Female</td><td>40</td><td>69</td><td>58</td></tr><tr><td>0085</td><td>Female</td><td>21</td><td>54</td><td>57</td></tr><tr><td>0120</td><td>Female</td><td>50</td><td>67</td><td>57</td></tr><tr><td>0061</td><td>Male</td><td>70</td><td>46</td><td>56</td></tr><tr><td>0074</td><td>Female</td><td>60</td><td>50</td><td>56</td></tr><tr><td>0105</td><td>Male</td><td>49</td><td>62</td><td>56</td></tr><tr><td>0121</td><td>Male</td><td>27</td><td>67</td><td>56</td></tr><tr><td>0047</td><td>Female</td><td>50</td><td>40</td><td>55</td></tr><tr><td>0062</td><td>Male</td><td>19</td><td>46</td><td>55</td></tr><tr><td>0071</td><td>Male</td><td>70</td><td>49</td><td>55</td></tr><tr><td>0082</td><td>Male</td><td>38</td><td>54</td><td>55</td></tr><tr><td>0088</td><td>Female</td><td>22</td><td>57</td><td>55</td></tr><tr><td>0091</td><td>Female</td><td>68</td><td>59</td><td>55</td></tr><tr><td>0104</td><td>Male</td><td>26</td><td>62</td><td>55</td></tr><tr><td>0053</td><td>Female</td><td>31</td><td>43</td><td>54</td></tr><tr><td>0076</td><td>Male</td><td>26</td><td>54</td><td>54</td></tr><tr><td>0112</td><td>Female</td><td>19</td><td>63</td><td>54</td></tr><tr><td>0077</td><td>Female</td><td>45</td><td>54</td><td>53</td></tr><tr><td>0051</td><td>Female</td><td>49</td><td>42</td><td>52</td></tr><tr><td>0063</td><td>Female</td><td>67</td><td>47</td><td>52</td></tr><tr><td>0079</td><td>Female</td><td>23</td><td>54</td><td>52</td></tr><tr><td>0096</td><td>Male</td><td>24</td><td>60</td><td>52</td></tr><tr><td>0111</td><td>Male</td><td>65</td><td>63</td><td>52</td></tr><tr><td>0059</td><td>Female</td><td>27</td><td>46</td><td>51</td></tr><tr><td>0065</td><td>Male</td><td>63</td><td>48</td><td>51</td></tr><tr><td>0081</td><td>Male</td><td>57</td><td>54</td><td>51</td></tr><tr><td>0057</td><td>Female</td><td>51</td><td>44</td><td>50</td></tr><tr><td>0067</td><td>Female</td><td>43</td><td>48</td><td>50</td></tr><tr><td>0098</td><td>Female</td><td>27</td><td>60</td><td>50</td></tr><tr><td>0107</td><td>Female</td><td>66</td><td>63</td><td>50</td></tr><tr><td>0116</td><td>Female</td><td>19</td><td>65</td><td>50</td></tr><tr><td>0023</td><td>Female</td><td>46</td><td>25</td><td>5</td></tr><tr><td>0135</td><td>Male</td><td>20</td><td>73</td><td>5</td></tr><tr><td>0141</td><td>Female</td><td>57</td><td>75</td><td>5</td></tr><tr><td>0163</td><td>Male</td><td>19</td><td>81</td><td>5</td></tr><tr><td>0073</td><td>Female</td><td>60</td><td>50</td><td>49</td></tr><tr><td>0093</td><td>Male</td><td>48</td><td>60</td><td>49</td></tr><tr><td>0100</td><td>Male</td><td>20</td><td>61</td><td>49</td></tr><tr><td>0068</td><td>Female</td><td>68</td><td>48</td><td>48</td></tr><tr><td>0078</td><td>Male</td><td>40</td><td>54</td><td>48</td></tr><tr><td>0102</td><td>Female</td><td>49</td><td>62</td><td>48</td></tr><tr><td>0110</td><td>Male</td><td>66</td><td>63</td><td>48</td></tr><tr><td>0115</td><td>Female</td><td>18</td><td>65</td><td>48</td></tr><tr><td>0048</td><td>Female</td><td>27</td><td>40</td><td>47</td></tr><tr><td>0070</td><td>Female</td><td>32</td><td>48</td><td>47</td></tr><tr><td>0075</td><td>Male</td><td>59</td><td>54</td><td>47</td></tr><tr><td>0097</td><td>Female</td><td>47</td><td>60</td><td>47</td></tr><tr><td>0058</td><td>Male</td><td>69</td><td>44</td><td>46</td></tr><tr><td>0060</td><td>Male</td><td>53</td><td>46</td><td>46</td></tr><tr><td>0086</td><td>Male</td><td>48</td><td>54</td><td>46</td></tr><tr><td>0090</td><td>Female</td><td>50</td><td>58</td><td>46</td></tr><tr><td>0108</td><td>Male</td><td>54</td><td>63</td><td>46</td></tr><tr><td>0114</td><td>Male</td><td>19</td><td>64</td><td>46</td></tr><tr><td>0055</td><td>Female</td><td>50</td><td>43</td><td>45</td></tr><tr><td>0084</td><td>Female</td><td>46</td><td>54</td><td>44</td></tr><tr><td>0109</td><td>Male</td><td>68</td><td>63</td><td>43</td></tr><tr><td>0117</td><td>Female</td><td>63</td><td>65</td><td>43</td></tr><tr><td>0119</td><td>Female</td><td>51</td><td>67</td><td>43</td></tr><tr><td>0049</td><td>Female</td><td>29</td><td>40</td><td>42</td></tr><tr><td>0050</td><td>Female</td><td>31</td><td>40</td><td>42</td></tr><tr><td>0072</td><td>Female</td><td>47</td><td>49</td><td>42</td></tr><tr><td>0080</td><td>Female</td><td>49</td><td>54</td><td>42</td></tr><tr><td>0095</td><td>Female</td><td>32</td><td>60</td><td>42</td></tr><tr><td>0099</td><td>Male</td><td>48</td><td>61</td><td>42</td></tr><tr><td>0106</td><td>Female</td><td>21</td><td>62</td><td>42</td></tr><tr><td>0113</td><td>Female</td><td>38</td><td>64</td><td>42</td></tr><tr><td>0056</td><td>Male</td><td>47</td><td>43</td><td>41</td></tr><tr><td>0083</td><td>Male</td><td>67</td><td>54</td><td>41</td></tr><tr><td>0092</td><td>Male</td><td>18</td><td>59</td><td>41</td></tr><tr><td>0101</td><td>Female</td><td>23</td><td>62</td><td>41</td></tr><tr><td>0005</td><td>Female</td><td>31</td><td>17</td><td>40</td></tr><tr><td>0094</td><td>Female</td><td>40</td><td>60</td><td>40</td></tr><tr><td>0122</td><td>Female</td><td>38</td><td>67</td><td>40</td></tr><tr><td>0143</td><td>Female</td><td>28</td><td>76</td><td>40</td></tr><tr><td>0031</td><td>Male</td><td>60</td><td>30</td><td>4</td></tr><tr><td>0033</td><td>Male</td><td>53</td><td>33</td><td>4</td></tr><tr><td>0001</td><td>Male</td><td>19</td><td>15</td><td>39</td></tr><tr><td>0185</td><td>Female</td><td>41</td><td>99</td><td>39</td></tr><tr><td>0043</td><td>Male</td><td>48</td><td>39</td><td>36</td></tr><tr><td>0147</td><td>Male</td><td>48</td><td>77</td><td>36</td></tr><tr><td>0017</td><td>Female</td><td>35</td><td>21</td><td>35</td></tr><tr><td>0021</td><td>Male</td><td>35</td><td>24</td><td>35</td></tr><tr><td>0041</td><td>Female</td><td>65</td><td>38</td><td>35</td></tr><tr><td>0127</td><td>Male</td><td>43</td><td>71</td><td>35</td></tr><tr><td>0161</td><td>Female</td><td>56</td><td>79</td><td>35</td></tr><tr><td>0133</td><td>Female</td><td>25</td><td>72</td><td>34</td></tr><tr><td>0027</td><td>Female</td><td>45</td><td>28</td><td>32</td></tr><tr><td>0181</td><td>Female</td><td>37</td><td>97</td><td>32</td></tr><tr><td>0029</td><td>Female</td><td>40</td><td>29</td><td>31</td></tr><tr><td>0009</td><td>Male</td><td>64</td><td>19</td><td>3</td></tr><tr><td>0019</td><td>Male</td><td>52</td><td>23</td><td>29</td></tr><tr><td>0125</td><td>Female</td><td>23</td><td>70</td><td>29</td></tr><tr><td>0045</td><td>Female</td><td>49</td><td>39</td><td>28</td></tr><tr><td>0197</td><td>Female</td><td>45</td><td>126</td><td>28</td></tr><tr><td>0169</td><td>Female</td><td>36</td><td>87</td><td>27</td></tr><tr><td>0039</td><td>Female</td><td>36</td><td>37</td><td>26</td></tr><tr><td>0165</td><td>Male</td><td>50</td><td>85</td><td>26</td></tr><tr><td>0187</td><td>Female</td><td>54</td><td>101</td><td>24</td></tr><tr><td>0191</td><td>Female</td><td>34</td><td>103</td><td>23</td></tr><tr><td>0149</td><td>Female</td><td>34</td><td>78</td><td>22</td></tr><tr><td>0153</td><td>Female</td><td>44</td><td>78</td><td>20</td></tr><tr><td>0167</td><td>Male</td><td>42</td><td>86</td><td>20</td></tr><tr><td>0199</td><td>Male</td><td>32</td><td>137</td><td>18</td></tr><tr><td>0037</td><td>Female</td><td>42</td><td>34</td><td>17</td></tr><tr><td>0151</td><td>Male</td><td>43</td><td>78</td><td>17</td></tr><tr><td>0189</td><td>Female</td><td>41</td><td>103</td><td>17</td></tr><tr><td>0155</td><td>Female</td><td>47</td><td>78</td><td>16</td></tr><tr><td>0195</td><td>Female</td><td>47</td><td>120</td><td>16</td></tr><tr><td>0013</td><td>Female</td><td>58</td><td>20</td><td>15</td></tr><tr><td>0177</td><td>Male</td><td>58</td><td>88</td><td>15</td></tr><tr><td>0183</td><td>Male</td><td>46</td><td>98</td><td>15</td></tr><tr><td>0011</td><td>Male</td><td>67</td><td>19</td><td>14</td></tr><tr><td>0025</td><td>Female</td><td>54</td><td>28</td><td>14</td></tr><tr><td>0035</td><td>Female</td><td>49</td><td>33</td><td>14</td></tr><tr><td>0179</td><td>Male</td><td>59</td><td>93</td><td>14</td></tr><tr><td>0015</td><td>Male</td><td>37</td><td>20</td><td>13</td></tr><tr><td>0171</td><td>Male</td><td>40</td><td>87</td><td>13</td></tr><tr><td>0175</td><td>Female</td><td>52</td><td>88</td><td>13</td></tr><tr><td>0145</td><td>Male</td><td>25</td><td>77</td><td>12</td></tr><tr><td>0129</td><td>Male</td><td>59</td><td>71</td><td>11</td></tr><tr><td>0139</td><td>Male</td><td>19</td><td>74</td><td>10</td></tr><tr><td>0173</td><td>Male</td><td>36</td><td>87</td><td>10</td></tr><tr><td>0157</td><td>Male</td><td>37</td><td>78</td><td>1</td></tr><tr><td>0159</td><td>Male</td><td>34</td><td>78</td><td>1</td></tr></tbody></table></div>"
      ]
     },
     "metadata": {
      "application/vnd.databricks.v1+output": {
       "addedWidgets": {},
       "aggData": [],
       "aggError": "",
       "aggOverflow": false,
       "aggSchema": [],
       "aggSeriesLimitReached": false,
       "aggType": "",
       "arguments": {},
       "columnCustomDisplayInfos": {},
       "data": [
        [
         "0012",
         "Female",
         "35",
         "19",
         "99"
        ],
        [
         "0020",
         "Female",
         "35",
         "23",
         "98"
        ],
        [
         "0146",
         "Male",
         "28",
         "77",
         "97"
        ],
        [
         "0186",
         "Male",
         "30",
         "99",
         "97"
        ],
        [
         "0128",
         "Male",
         "40",
         "71",
         "95"
        ],
        [
         "0168",
         "Female",
         "33",
         "86",
         "95"
        ],
        [
         "0008",
         "Female",
         "23",
         "18",
         "94"
        ],
        [
         "0142",
         "Male",
         "32",
         "75",
         "93"
        ],
        [
         "0164",
         "Female",
         "31",
         "81",
         "93"
        ],
        [
         "0034",
         "Male",
         "18",
         "33",
         "92"
        ],
        [
         "0042",
         "Male",
         "24",
         "38",
         "92"
        ],
        [
         "0174",
         "Male",
         "36",
         "87",
         "92"
        ],
        [
         "0124",
         "Male",
         "39",
         "69",
         "91"
        ],
        [
         "0194",
         "Female",
         "38",
         "113",
         "91"
        ],
        [
         "0150",
         "Male",
         "34",
         "78",
         "90"
        ],
        [
         "0180",
         "Male",
         "35",
         "93",
         "90"
        ],
        [
         "0131",
         "Male",
         "47",
         "71",
         "9"
        ],
        [
         "0156",
         "Female",
         "27",
         "78",
         "89"
        ],
        [
         "0136",
         "Female",
         "29",
         "73",
         "88"
        ],
        [
         "0152",
         "Male",
         "39",
         "78",
         "88"
        ],
        [
         "0184",
         "Female",
         "29",
         "98",
         "88"
        ],
        [
         "0030",
         "Female",
         "23",
         "29",
         "87"
        ],
        [
         "0144",
         "Female",
         "32",
         "76",
         "87"
        ],
        [
         "0176",
         "Female",
         "30",
         "88",
         "86"
        ],
        [
         "0182",
         "Female",
         "32",
         "97",
         "86"
        ],
        [
         "0190",
         "Female",
         "36",
         "103",
         "85"
        ],
        [
         "0162",
         "Female",
         "29",
         "79",
         "83"
        ],
        [
         "0200",
         "Male",
         "30",
         "137",
         "83"
        ],
        [
         "0026",
         "Male",
         "29",
         "28",
         "82"
        ],
        [
         "0002",
         "Male",
         "21",
         "15",
         "81"
        ],
        [
         "0036",
         "Female",
         "21",
         "33",
         "81"
        ],
        [
         "0193",
         "Male",
         "33",
         "113",
         "8"
        ],
        [
         "0016",
         "Male",
         "22",
         "20",
         "79"
        ],
        [
         "0196",
         "Female",
         "35",
         "120",
         "79"
        ],
        [
         "0158",
         "Female",
         "30",
         "78",
         "78"
        ],
        [
         "0004",
         "Female",
         "23",
         "16",
         "77"
        ],
        [
         "0014",
         "Female",
         "24",
         "20",
         "77"
        ],
        [
         "0126",
         "Female",
         "31",
         "70",
         "77"
        ],
        [
         "0006",
         "Female",
         "22",
         "17",
         "76"
        ],
        [
         "0154",
         "Female",
         "38",
         "78",
         "76"
        ],
        [
         "0040",
         "Female",
         "20",
         "37",
         "75"
        ],
        [
         "0130",
         "Male",
         "38",
         "71",
         "75"
        ],
        [
         "0132",
         "Male",
         "39",
         "71",
         "75"
        ],
        [
         "0166",
         "Female",
         "36",
         "85",
         "75"
        ],
        [
         "0172",
         "Male",
         "28",
         "87",
         "75"
        ],
        [
         "0148",
         "Female",
         "32",
         "77",
         "74"
        ],
        [
         "0198",
         "Male",
         "32",
         "126",
         "74"
        ],
        [
         "0022",
         "Male",
         "25",
         "24",
         "73"
        ],
        [
         "0024",
         "Male",
         "31",
         "25",
         "73"
        ],
        [
         "0032",
         "Female",
         "21",
         "30",
         "73"
        ],
        [
         "0038",
         "Female",
         "30",
         "34",
         "73"
        ],
        [
         "0138",
         "Male",
         "32",
         "73",
         "73"
        ],
        [
         "0160",
         "Female",
         "30",
         "78",
         "73"
        ],
        [
         "0010",
         "Female",
         "30",
         "19",
         "72"
        ],
        [
         "0140",
         "Female",
         "35",
         "74",
         "72"
        ],
        [
         "0134",
         "Female",
         "31",
         "72",
         "71"
        ],
        [
         "0137",
         "Female",
         "44",
         "73",
         "7"
        ],
        [
         "0178",
         "Male",
         "27",
         "88",
         "69"
        ],
        [
         "0192",
         "Female",
         "32",
         "103",
         "69"
        ],
        [
         "0188",
         "Male",
         "28",
         "101",
         "68"
        ],
        [
         "0018",
         "Male",
         "20",
         "21",
         "66"
        ],
        [
         "0046",
         "Female",
         "24",
         "39",
         "65"
        ],
        [
         "0170",
         "Male",
         "32",
         "87",
         "63"
        ],
        [
         "0028",
         "Male",
         "35",
         "28",
         "61"
        ],
        [
         "0044",
         "Female",
         "31",
         "39",
         "61"
        ],
        [
         "0052",
         "Male",
         "33",
         "42",
         "60"
        ],
        [
         "0054",
         "Male",
         "59",
         "43",
         "60"
        ],
        [
         "0089",
         "Female",
         "34",
         "58",
         "60"
        ],
        [
         "0003",
         "Female",
         "20",
         "16",
         "6"
        ],
        [
         "0007",
         "Female",
         "35",
         "18",
         "6"
        ],
        [
         "0064",
         "Female",
         "54",
         "47",
         "59"
        ],
        [
         "0066",
         "Male",
         "18",
         "48",
         "59"
        ],
        [
         "0069",
         "Male",
         "19",
         "48",
         "59"
        ],
        [
         "0103",
         "Male",
         "67",
         "62",
         "59"
        ],
        [
         "0118",
         "Female",
         "49",
         "65",
         "59"
        ],
        [
         "0087",
         "Female",
         "55",
         "57",
         "58"
        ],
        [
         "0123",
         "Female",
         "40",
         "69",
         "58"
        ],
        [
         "0085",
         "Female",
         "21",
         "54",
         "57"
        ],
        [
         "0120",
         "Female",
         "50",
         "67",
         "57"
        ],
        [
         "0061",
         "Male",
         "70",
         "46",
         "56"
        ],
        [
         "0074",
         "Female",
         "60",
         "50",
         "56"
        ],
        [
         "0105",
         "Male",
         "49",
         "62",
         "56"
        ],
        [
         "0121",
         "Male",
         "27",
         "67",
         "56"
        ],
        [
         "0047",
         "Female",
         "50",
         "40",
         "55"
        ],
        [
         "0062",
         "Male",
         "19",
         "46",
         "55"
        ],
        [
         "0071",
         "Male",
         "70",
         "49",
         "55"
        ],
        [
         "0082",
         "Male",
         "38",
         "54",
         "55"
        ],
        [
         "0088",
         "Female",
         "22",
         "57",
         "55"
        ],
        [
         "0091",
         "Female",
         "68",
         "59",
         "55"
        ],
        [
         "0104",
         "Male",
         "26",
         "62",
         "55"
        ],
        [
         "0053",
         "Female",
         "31",
         "43",
         "54"
        ],
        [
         "0076",
         "Male",
         "26",
         "54",
         "54"
        ],
        [
         "0112",
         "Female",
         "19",
         "63",
         "54"
        ],
        [
         "0077",
         "Female",
         "45",
         "54",
         "53"
        ],
        [
         "0051",
         "Female",
         "49",
         "42",
         "52"
        ],
        [
         "0063",
         "Female",
         "67",
         "47",
         "52"
        ],
        [
         "0079",
         "Female",
         "23",
         "54",
         "52"
        ],
        [
         "0096",
         "Male",
         "24",
         "60",
         "52"
        ],
        [
         "0111",
         "Male",
         "65",
         "63",
         "52"
        ],
        [
         "0059",
         "Female",
         "27",
         "46",
         "51"
        ],
        [
         "0065",
         "Male",
         "63",
         "48",
         "51"
        ],
        [
         "0081",
         "Male",
         "57",
         "54",
         "51"
        ],
        [
         "0057",
         "Female",
         "51",
         "44",
         "50"
        ],
        [
         "0067",
         "Female",
         "43",
         "48",
         "50"
        ],
        [
         "0098",
         "Female",
         "27",
         "60",
         "50"
        ],
        [
         "0107",
         "Female",
         "66",
         "63",
         "50"
        ],
        [
         "0116",
         "Female",
         "19",
         "65",
         "50"
        ],
        [
         "0023",
         "Female",
         "46",
         "25",
         "5"
        ],
        [
         "0135",
         "Male",
         "20",
         "73",
         "5"
        ],
        [
         "0141",
         "Female",
         "57",
         "75",
         "5"
        ],
        [
         "0163",
         "Male",
         "19",
         "81",
         "5"
        ],
        [
         "0073",
         "Female",
         "60",
         "50",
         "49"
        ],
        [
         "0093",
         "Male",
         "48",
         "60",
         "49"
        ],
        [
         "0100",
         "Male",
         "20",
         "61",
         "49"
        ],
        [
         "0068",
         "Female",
         "68",
         "48",
         "48"
        ],
        [
         "0078",
         "Male",
         "40",
         "54",
         "48"
        ],
        [
         "0102",
         "Female",
         "49",
         "62",
         "48"
        ],
        [
         "0110",
         "Male",
         "66",
         "63",
         "48"
        ],
        [
         "0115",
         "Female",
         "18",
         "65",
         "48"
        ],
        [
         "0048",
         "Female",
         "27",
         "40",
         "47"
        ],
        [
         "0070",
         "Female",
         "32",
         "48",
         "47"
        ],
        [
         "0075",
         "Male",
         "59",
         "54",
         "47"
        ],
        [
         "0097",
         "Female",
         "47",
         "60",
         "47"
        ],
        [
         "0058",
         "Male",
         "69",
         "44",
         "46"
        ],
        [
         "0060",
         "Male",
         "53",
         "46",
         "46"
        ],
        [
         "0086",
         "Male",
         "48",
         "54",
         "46"
        ],
        [
         "0090",
         "Female",
         "50",
         "58",
         "46"
        ],
        [
         "0108",
         "Male",
         "54",
         "63",
         "46"
        ],
        [
         "0114",
         "Male",
         "19",
         "64",
         "46"
        ],
        [
         "0055",
         "Female",
         "50",
         "43",
         "45"
        ],
        [
         "0084",
         "Female",
         "46",
         "54",
         "44"
        ],
        [
         "0109",
         "Male",
         "68",
         "63",
         "43"
        ],
        [
         "0117",
         "Female",
         "63",
         "65",
         "43"
        ],
        [
         "0119",
         "Female",
         "51",
         "67",
         "43"
        ],
        [
         "0049",
         "Female",
         "29",
         "40",
         "42"
        ],
        [
         "0050",
         "Female",
         "31",
         "40",
         "42"
        ],
        [
         "0072",
         "Female",
         "47",
         "49",
         "42"
        ],
        [
         "0080",
         "Female",
         "49",
         "54",
         "42"
        ],
        [
         "0095",
         "Female",
         "32",
         "60",
         "42"
        ],
        [
         "0099",
         "Male",
         "48",
         "61",
         "42"
        ],
        [
         "0106",
         "Female",
         "21",
         "62",
         "42"
        ],
        [
         "0113",
         "Female",
         "38",
         "64",
         "42"
        ],
        [
         "0056",
         "Male",
         "47",
         "43",
         "41"
        ],
        [
         "0083",
         "Male",
         "67",
         "54",
         "41"
        ],
        [
         "0092",
         "Male",
         "18",
         "59",
         "41"
        ],
        [
         "0101",
         "Female",
         "23",
         "62",
         "41"
        ],
        [
         "0005",
         "Female",
         "31",
         "17",
         "40"
        ],
        [
         "0094",
         "Female",
         "40",
         "60",
         "40"
        ],
        [
         "0122",
         "Female",
         "38",
         "67",
         "40"
        ],
        [
         "0143",
         "Female",
         "28",
         "76",
         "40"
        ],
        [
         "0031",
         "Male",
         "60",
         "30",
         "4"
        ],
        [
         "0033",
         "Male",
         "53",
         "33",
         "4"
        ],
        [
         "0001",
         "Male",
         "19",
         "15",
         "39"
        ],
        [
         "0185",
         "Female",
         "41",
         "99",
         "39"
        ],
        [
         "0043",
         "Male",
         "48",
         "39",
         "36"
        ],
        [
         "0147",
         "Male",
         "48",
         "77",
         "36"
        ],
        [
         "0017",
         "Female",
         "35",
         "21",
         "35"
        ],
        [
         "0021",
         "Male",
         "35",
         "24",
         "35"
        ],
        [
         "0041",
         "Female",
         "65",
         "38",
         "35"
        ],
        [
         "0127",
         "Male",
         "43",
         "71",
         "35"
        ],
        [
         "0161",
         "Female",
         "56",
         "79",
         "35"
        ],
        [
         "0133",
         "Female",
         "25",
         "72",
         "34"
        ],
        [
         "0027",
         "Female",
         "45",
         "28",
         "32"
        ],
        [
         "0181",
         "Female",
         "37",
         "97",
         "32"
        ],
        [
         "0029",
         "Female",
         "40",
         "29",
         "31"
        ],
        [
         "0009",
         "Male",
         "64",
         "19",
         "3"
        ],
        [
         "0019",
         "Male",
         "52",
         "23",
         "29"
        ],
        [
         "0125",
         "Female",
         "23",
         "70",
         "29"
        ],
        [
         "0045",
         "Female",
         "49",
         "39",
         "28"
        ],
        [
         "0197",
         "Female",
         "45",
         "126",
         "28"
        ],
        [
         "0169",
         "Female",
         "36",
         "87",
         "27"
        ],
        [
         "0039",
         "Female",
         "36",
         "37",
         "26"
        ],
        [
         "0165",
         "Male",
         "50",
         "85",
         "26"
        ],
        [
         "0187",
         "Female",
         "54",
         "101",
         "24"
        ],
        [
         "0191",
         "Female",
         "34",
         "103",
         "23"
        ],
        [
         "0149",
         "Female",
         "34",
         "78",
         "22"
        ],
        [
         "0153",
         "Female",
         "44",
         "78",
         "20"
        ],
        [
         "0167",
         "Male",
         "42",
         "86",
         "20"
        ],
        [
         "0199",
         "Male",
         "32",
         "137",
         "18"
        ],
        [
         "0037",
         "Female",
         "42",
         "34",
         "17"
        ],
        [
         "0151",
         "Male",
         "43",
         "78",
         "17"
        ],
        [
         "0189",
         "Female",
         "41",
         "103",
         "17"
        ],
        [
         "0155",
         "Female",
         "47",
         "78",
         "16"
        ],
        [
         "0195",
         "Female",
         "47",
         "120",
         "16"
        ],
        [
         "0013",
         "Female",
         "58",
         "20",
         "15"
        ],
        [
         "0177",
         "Male",
         "58",
         "88",
         "15"
        ],
        [
         "0183",
         "Male",
         "46",
         "98",
         "15"
        ],
        [
         "0011",
         "Male",
         "67",
         "19",
         "14"
        ],
        [
         "0025",
         "Female",
         "54",
         "28",
         "14"
        ],
        [
         "0035",
         "Female",
         "49",
         "33",
         "14"
        ],
        [
         "0179",
         "Male",
         "59",
         "93",
         "14"
        ],
        [
         "0015",
         "Male",
         "37",
         "20",
         "13"
        ],
        [
         "0171",
         "Male",
         "40",
         "87",
         "13"
        ],
        [
         "0175",
         "Female",
         "52",
         "88",
         "13"
        ],
        [
         "0145",
         "Male",
         "25",
         "77",
         "12"
        ],
        [
         "0129",
         "Male",
         "59",
         "71",
         "11"
        ],
        [
         "0139",
         "Male",
         "19",
         "74",
         "10"
        ],
        [
         "0173",
         "Male",
         "36",
         "87",
         "10"
        ],
        [
         "0157",
         "Male",
         "37",
         "78",
         "1"
        ],
        [
         "0159",
         "Male",
         "34",
         "78",
         "1"
        ]
       ],
       "datasetInfos": [],
       "dbfsResultPath": null,
       "isJsonSchema": true,
       "metadata": {},
       "overflow": false,
       "plotOptions": {
        "customPlotOptions": {},
        "displayType": "table",
        "pivotAggregation": null,
        "pivotColumns": null,
        "xColumns": null,
        "yColumns": null
       },
       "removedWidgets": [],
       "schema": [
        {
         "metadata": "{}",
         "name": "CustomerID",
         "type": "\"string\""
        },
        {
         "metadata": "{}",
         "name": "Genre",
         "type": "\"string\""
        },
        {
         "metadata": "{}",
         "name": "Age",
         "type": "\"string\""
        },
        {
         "metadata": "{}",
         "name": "Annual Income (k$)",
         "type": "\"string\""
        },
        {
         "metadata": "{}",
         "name": "Spending Score (1-100)",
         "type": "\"string\""
        }
       ],
       "type": "table"
      }
     },
     "output_type": "display_data"
    }
   ],
   "source": [
    "%sql\n",
    "--Consultar los clientes ordenados por el puntaje de gasto en orden descendente\n",
    "SELECT * \n",
    "FROM customers_view \n",
    "ORDER BY `Spending Score (1-100)` DESC;"
   ]
  },
  {
   "cell_type": "code",
   "execution_count": 0,
   "metadata": {
    "application/vnd.databricks.v1+cell": {
     "cellMetadata": {
      "byteLimit": 2048000,
      "implicitDf": true,
      "rowLimit": 10000
     },
     "inputWidgets": {},
     "nuid": "72f12b4e-f5ae-4383-8b7d-08d4a1b254a6",
     "showTitle": false,
     "title": ""
    }
   },
   "outputs": [
    {
     "output_type": "display_data",
     "data": {
      "text/html": [
       "<style scoped>\n",
       "  .table-result-container {\n",
       "    max-height: 300px;\n",
       "    overflow: auto;\n",
       "  }\n",
       "  table, th, td {\n",
       "    border: 1px solid black;\n",
       "    border-collapse: collapse;\n",
       "  }\n",
       "  th, td {\n",
       "    padding: 5px;\n",
       "  }\n",
       "  th {\n",
       "    text-align: left;\n",
       "  }\n",
       "</style><div class='table-result-container'><table class='table-result'><thead style='background-color: white'><tr></tr></thead><tbody></tbody></table></div>"
      ]
     },
     "metadata": {
      "application/vnd.databricks.v1+output": {
       "addedWidgets": {},
       "aggData": [],
       "aggError": "",
       "aggOverflow": false,
       "aggSchema": [],
       "aggSeriesLimitReached": false,
       "aggType": "",
       "arguments": {},
       "columnCustomDisplayInfos": {},
       "data": [],
       "datasetInfos": [],
       "dbfsResultPath": null,
       "isJsonSchema": true,
       "metadata": {},
       "overflow": false,
       "plotOptions": {
        "customPlotOptions": {},
        "displayType": "table",
        "pivotAggregation": null,
        "pivotColumns": null,
        "xColumns": null,
        "yColumns": null
       },
       "removedWidgets": [],
       "schema": [],
       "type": "table"
      }
     },
     "output_type": "display_data"
    }
   ],
   "source": [
    "%sql\n",
    "--Crear una tabla temporal con los datos de la vista temporal:\n",
    "CREATE TEMPORARY VIEW temp_customers AS \n",
    "SELECT * \n",
    "FROM customers_view;\n"
   ]
  },
  {
   "cell_type": "code",
   "execution_count": 0,
   "metadata": {
    "application/vnd.databricks.v1+cell": {
     "cellMetadata": {
      "byteLimit": 2048000,
      "implicitDf": true,
      "rowLimit": 10000
     },
     "inputWidgets": {},
     "nuid": "c02d02d5-e69f-4449-aae1-3b92e0f1ec69",
     "showTitle": false,
     "title": ""
    }
   },
   "outputs": [
    {
     "output_type": "display_data",
     "data": {
      "text/html": [
       "<style scoped>\n",
       "  .table-result-container {\n",
       "    max-height: 300px;\n",
       "    overflow: auto;\n",
       "  }\n",
       "  table, th, td {\n",
       "    border: 1px solid black;\n",
       "    border-collapse: collapse;\n",
       "  }\n",
       "  th, td {\n",
       "    padding: 5px;\n",
       "  }\n",
       "  th {\n",
       "    text-align: left;\n",
       "  }\n",
       "</style><div class='table-result-container'><table class='table-result'><thead style='background-color: white'><tr><th>CustomerID</th><th>Genre</th><th>Age</th><th>Annual Income (k$)</th><th>Spending Score (1-100)</th></tr></thead><tbody><tr><td>0001</td><td>Male</td><td>19</td><td>15</td><td>39</td></tr><tr><td>0002</td><td>Male</td><td>21</td><td>15</td><td>81</td></tr><tr><td>0003</td><td>Female</td><td>20</td><td>16</td><td>6</td></tr><tr><td>0004</td><td>Female</td><td>23</td><td>16</td><td>77</td></tr><tr><td>0005</td><td>Female</td><td>31</td><td>17</td><td>40</td></tr><tr><td>0006</td><td>Female</td><td>22</td><td>17</td><td>76</td></tr><tr><td>0007</td><td>Female</td><td>35</td><td>18</td><td>6</td></tr><tr><td>0008</td><td>Female</td><td>23</td><td>18</td><td>94</td></tr><tr><td>0009</td><td>Male</td><td>64</td><td>19</td><td>3</td></tr><tr><td>0010</td><td>Female</td><td>30</td><td>19</td><td>72</td></tr><tr><td>0011</td><td>Male</td><td>67</td><td>19</td><td>14</td></tr><tr><td>0012</td><td>Female</td><td>35</td><td>19</td><td>99</td></tr><tr><td>0013</td><td>Female</td><td>58</td><td>20</td><td>15</td></tr><tr><td>0014</td><td>Female</td><td>24</td><td>20</td><td>77</td></tr><tr><td>0015</td><td>Male</td><td>37</td><td>20</td><td>13</td></tr><tr><td>0016</td><td>Male</td><td>22</td><td>20</td><td>79</td></tr><tr><td>0017</td><td>Female</td><td>35</td><td>21</td><td>35</td></tr><tr><td>0018</td><td>Male</td><td>20</td><td>21</td><td>66</td></tr><tr><td>0019</td><td>Male</td><td>52</td><td>23</td><td>29</td></tr><tr><td>0020</td><td>Female</td><td>35</td><td>23</td><td>98</td></tr><tr><td>0021</td><td>Male</td><td>35</td><td>24</td><td>35</td></tr><tr><td>0022</td><td>Male</td><td>25</td><td>24</td><td>73</td></tr><tr><td>0023</td><td>Female</td><td>46</td><td>25</td><td>5</td></tr><tr><td>0024</td><td>Male</td><td>31</td><td>25</td><td>73</td></tr><tr><td>0025</td><td>Female</td><td>54</td><td>28</td><td>14</td></tr><tr><td>0026</td><td>Male</td><td>29</td><td>28</td><td>82</td></tr><tr><td>0027</td><td>Female</td><td>45</td><td>28</td><td>32</td></tr><tr><td>0028</td><td>Male</td><td>35</td><td>28</td><td>61</td></tr><tr><td>0029</td><td>Female</td><td>40</td><td>29</td><td>31</td></tr><tr><td>0030</td><td>Female</td><td>23</td><td>29</td><td>87</td></tr><tr><td>0031</td><td>Male</td><td>60</td><td>30</td><td>4</td></tr><tr><td>0032</td><td>Female</td><td>21</td><td>30</td><td>73</td></tr><tr><td>0033</td><td>Male</td><td>53</td><td>33</td><td>4</td></tr><tr><td>0034</td><td>Male</td><td>18</td><td>33</td><td>92</td></tr><tr><td>0035</td><td>Female</td><td>49</td><td>33</td><td>14</td></tr><tr><td>0036</td><td>Female</td><td>21</td><td>33</td><td>81</td></tr><tr><td>0037</td><td>Female</td><td>42</td><td>34</td><td>17</td></tr><tr><td>0038</td><td>Female</td><td>30</td><td>34</td><td>73</td></tr><tr><td>0039</td><td>Female</td><td>36</td><td>37</td><td>26</td></tr><tr><td>0040</td><td>Female</td><td>20</td><td>37</td><td>75</td></tr><tr><td>0041</td><td>Female</td><td>65</td><td>38</td><td>35</td></tr><tr><td>0042</td><td>Male</td><td>24</td><td>38</td><td>92</td></tr><tr><td>0043</td><td>Male</td><td>48</td><td>39</td><td>36</td></tr><tr><td>0044</td><td>Female</td><td>31</td><td>39</td><td>61</td></tr><tr><td>0045</td><td>Female</td><td>49</td><td>39</td><td>28</td></tr><tr><td>0046</td><td>Female</td><td>24</td><td>39</td><td>65</td></tr><tr><td>0047</td><td>Female</td><td>50</td><td>40</td><td>55</td></tr><tr><td>0048</td><td>Female</td><td>27</td><td>40</td><td>47</td></tr><tr><td>0049</td><td>Female</td><td>29</td><td>40</td><td>42</td></tr><tr><td>0050</td><td>Female</td><td>31</td><td>40</td><td>42</td></tr><tr><td>0051</td><td>Female</td><td>49</td><td>42</td><td>52</td></tr><tr><td>0052</td><td>Male</td><td>33</td><td>42</td><td>60</td></tr><tr><td>0053</td><td>Female</td><td>31</td><td>43</td><td>54</td></tr><tr><td>0054</td><td>Male</td><td>59</td><td>43</td><td>60</td></tr><tr><td>0055</td><td>Female</td><td>50</td><td>43</td><td>45</td></tr><tr><td>0056</td><td>Male</td><td>47</td><td>43</td><td>41</td></tr><tr><td>0057</td><td>Female</td><td>51</td><td>44</td><td>50</td></tr><tr><td>0058</td><td>Male</td><td>69</td><td>44</td><td>46</td></tr><tr><td>0059</td><td>Female</td><td>27</td><td>46</td><td>51</td></tr><tr><td>0060</td><td>Male</td><td>53</td><td>46</td><td>46</td></tr><tr><td>0061</td><td>Male</td><td>70</td><td>46</td><td>56</td></tr><tr><td>0062</td><td>Male</td><td>19</td><td>46</td><td>55</td></tr><tr><td>0063</td><td>Female</td><td>67</td><td>47</td><td>52</td></tr><tr><td>0064</td><td>Female</td><td>54</td><td>47</td><td>59</td></tr><tr><td>0065</td><td>Male</td><td>63</td><td>48</td><td>51</td></tr><tr><td>0066</td><td>Male</td><td>18</td><td>48</td><td>59</td></tr><tr><td>0067</td><td>Female</td><td>43</td><td>48</td><td>50</td></tr><tr><td>0068</td><td>Female</td><td>68</td><td>48</td><td>48</td></tr><tr><td>0069</td><td>Male</td><td>19</td><td>48</td><td>59</td></tr><tr><td>0070</td><td>Female</td><td>32</td><td>48</td><td>47</td></tr><tr><td>0071</td><td>Male</td><td>70</td><td>49</td><td>55</td></tr><tr><td>0072</td><td>Female</td><td>47</td><td>49</td><td>42</td></tr><tr><td>0073</td><td>Female</td><td>60</td><td>50</td><td>49</td></tr><tr><td>0074</td><td>Female</td><td>60</td><td>50</td><td>56</td></tr><tr><td>0075</td><td>Male</td><td>59</td><td>54</td><td>47</td></tr><tr><td>0076</td><td>Male</td><td>26</td><td>54</td><td>54</td></tr><tr><td>0077</td><td>Female</td><td>45</td><td>54</td><td>53</td></tr><tr><td>0078</td><td>Male</td><td>40</td><td>54</td><td>48</td></tr><tr><td>0079</td><td>Female</td><td>23</td><td>54</td><td>52</td></tr><tr><td>0080</td><td>Female</td><td>49</td><td>54</td><td>42</td></tr><tr><td>0081</td><td>Male</td><td>57</td><td>54</td><td>51</td></tr><tr><td>0082</td><td>Male</td><td>38</td><td>54</td><td>55</td></tr><tr><td>0083</td><td>Male</td><td>67</td><td>54</td><td>41</td></tr><tr><td>0084</td><td>Female</td><td>46</td><td>54</td><td>44</td></tr><tr><td>0085</td><td>Female</td><td>21</td><td>54</td><td>57</td></tr><tr><td>0086</td><td>Male</td><td>48</td><td>54</td><td>46</td></tr><tr><td>0087</td><td>Female</td><td>55</td><td>57</td><td>58</td></tr><tr><td>0088</td><td>Female</td><td>22</td><td>57</td><td>55</td></tr><tr><td>0089</td><td>Female</td><td>34</td><td>58</td><td>60</td></tr><tr><td>0090</td><td>Female</td><td>50</td><td>58</td><td>46</td></tr><tr><td>0091</td><td>Female</td><td>68</td><td>59</td><td>55</td></tr><tr><td>0092</td><td>Male</td><td>18</td><td>59</td><td>41</td></tr><tr><td>0093</td><td>Male</td><td>48</td><td>60</td><td>49</td></tr><tr><td>0094</td><td>Female</td><td>40</td><td>60</td><td>40</td></tr><tr><td>0095</td><td>Female</td><td>32</td><td>60</td><td>42</td></tr><tr><td>0096</td><td>Male</td><td>24</td><td>60</td><td>52</td></tr><tr><td>0097</td><td>Female</td><td>47</td><td>60</td><td>47</td></tr><tr><td>0098</td><td>Female</td><td>27</td><td>60</td><td>50</td></tr><tr><td>0099</td><td>Male</td><td>48</td><td>61</td><td>42</td></tr><tr><td>0100</td><td>Male</td><td>20</td><td>61</td><td>49</td></tr><tr><td>0101</td><td>Female</td><td>23</td><td>62</td><td>41</td></tr><tr><td>0102</td><td>Female</td><td>49</td><td>62</td><td>48</td></tr><tr><td>0103</td><td>Male</td><td>67</td><td>62</td><td>59</td></tr><tr><td>0104</td><td>Male</td><td>26</td><td>62</td><td>55</td></tr><tr><td>0105</td><td>Male</td><td>49</td><td>62</td><td>56</td></tr><tr><td>0106</td><td>Female</td><td>21</td><td>62</td><td>42</td></tr><tr><td>0107</td><td>Female</td><td>66</td><td>63</td><td>50</td></tr><tr><td>0108</td><td>Male</td><td>54</td><td>63</td><td>46</td></tr><tr><td>0109</td><td>Male</td><td>68</td><td>63</td><td>43</td></tr><tr><td>0110</td><td>Male</td><td>66</td><td>63</td><td>48</td></tr><tr><td>0111</td><td>Male</td><td>65</td><td>63</td><td>52</td></tr><tr><td>0112</td><td>Female</td><td>19</td><td>63</td><td>54</td></tr><tr><td>0113</td><td>Female</td><td>38</td><td>64</td><td>42</td></tr><tr><td>0114</td><td>Male</td><td>19</td><td>64</td><td>46</td></tr><tr><td>0115</td><td>Female</td><td>18</td><td>65</td><td>48</td></tr><tr><td>0116</td><td>Female</td><td>19</td><td>65</td><td>50</td></tr><tr><td>0117</td><td>Female</td><td>63</td><td>65</td><td>43</td></tr><tr><td>0118</td><td>Female</td><td>49</td><td>65</td><td>59</td></tr><tr><td>0119</td><td>Female</td><td>51</td><td>67</td><td>43</td></tr><tr><td>0120</td><td>Female</td><td>50</td><td>67</td><td>57</td></tr><tr><td>0121</td><td>Male</td><td>27</td><td>67</td><td>56</td></tr><tr><td>0122</td><td>Female</td><td>38</td><td>67</td><td>40</td></tr><tr><td>0123</td><td>Female</td><td>40</td><td>69</td><td>58</td></tr><tr><td>0124</td><td>Male</td><td>39</td><td>69</td><td>91</td></tr><tr><td>0125</td><td>Female</td><td>23</td><td>70</td><td>29</td></tr><tr><td>0126</td><td>Female</td><td>31</td><td>70</td><td>77</td></tr><tr><td>0127</td><td>Male</td><td>43</td><td>71</td><td>35</td></tr><tr><td>0128</td><td>Male</td><td>40</td><td>71</td><td>95</td></tr><tr><td>0129</td><td>Male</td><td>59</td><td>71</td><td>11</td></tr><tr><td>0130</td><td>Male</td><td>38</td><td>71</td><td>75</td></tr><tr><td>0131</td><td>Male</td><td>47</td><td>71</td><td>9</td></tr><tr><td>0132</td><td>Male</td><td>39</td><td>71</td><td>75</td></tr><tr><td>0133</td><td>Female</td><td>25</td><td>72</td><td>34</td></tr><tr><td>0134</td><td>Female</td><td>31</td><td>72</td><td>71</td></tr><tr><td>0135</td><td>Male</td><td>20</td><td>73</td><td>5</td></tr><tr><td>0136</td><td>Female</td><td>29</td><td>73</td><td>88</td></tr><tr><td>0137</td><td>Female</td><td>44</td><td>73</td><td>7</td></tr><tr><td>0138</td><td>Male</td><td>32</td><td>73</td><td>73</td></tr><tr><td>0139</td><td>Male</td><td>19</td><td>74</td><td>10</td></tr><tr><td>0140</td><td>Female</td><td>35</td><td>74</td><td>72</td></tr><tr><td>0141</td><td>Female</td><td>57</td><td>75</td><td>5</td></tr><tr><td>0142</td><td>Male</td><td>32</td><td>75</td><td>93</td></tr><tr><td>0143</td><td>Female</td><td>28</td><td>76</td><td>40</td></tr><tr><td>0144</td><td>Female</td><td>32</td><td>76</td><td>87</td></tr><tr><td>0145</td><td>Male</td><td>25</td><td>77</td><td>12</td></tr><tr><td>0146</td><td>Male</td><td>28</td><td>77</td><td>97</td></tr><tr><td>0147</td><td>Male</td><td>48</td><td>77</td><td>36</td></tr><tr><td>0148</td><td>Female</td><td>32</td><td>77</td><td>74</td></tr><tr><td>0149</td><td>Female</td><td>34</td><td>78</td><td>22</td></tr><tr><td>0150</td><td>Male</td><td>34</td><td>78</td><td>90</td></tr><tr><td>0151</td><td>Male</td><td>43</td><td>78</td><td>17</td></tr><tr><td>0152</td><td>Male</td><td>39</td><td>78</td><td>88</td></tr><tr><td>0153</td><td>Female</td><td>44</td><td>78</td><td>20</td></tr><tr><td>0154</td><td>Female</td><td>38</td><td>78</td><td>76</td></tr><tr><td>0155</td><td>Female</td><td>47</td><td>78</td><td>16</td></tr><tr><td>0156</td><td>Female</td><td>27</td><td>78</td><td>89</td></tr><tr><td>0157</td><td>Male</td><td>37</td><td>78</td><td>1</td></tr><tr><td>0158</td><td>Female</td><td>30</td><td>78</td><td>78</td></tr><tr><td>0159</td><td>Male</td><td>34</td><td>78</td><td>1</td></tr><tr><td>0160</td><td>Female</td><td>30</td><td>78</td><td>73</td></tr><tr><td>0161</td><td>Female</td><td>56</td><td>79</td><td>35</td></tr><tr><td>0162</td><td>Female</td><td>29</td><td>79</td><td>83</td></tr><tr><td>0163</td><td>Male</td><td>19</td><td>81</td><td>5</td></tr><tr><td>0164</td><td>Female</td><td>31</td><td>81</td><td>93</td></tr><tr><td>0165</td><td>Male</td><td>50</td><td>85</td><td>26</td></tr><tr><td>0166</td><td>Female</td><td>36</td><td>85</td><td>75</td></tr><tr><td>0167</td><td>Male</td><td>42</td><td>86</td><td>20</td></tr><tr><td>0168</td><td>Female</td><td>33</td><td>86</td><td>95</td></tr><tr><td>0169</td><td>Female</td><td>36</td><td>87</td><td>27</td></tr><tr><td>0170</td><td>Male</td><td>32</td><td>87</td><td>63</td></tr><tr><td>0171</td><td>Male</td><td>40</td><td>87</td><td>13</td></tr><tr><td>0172</td><td>Male</td><td>28</td><td>87</td><td>75</td></tr><tr><td>0173</td><td>Male</td><td>36</td><td>87</td><td>10</td></tr><tr><td>0174</td><td>Male</td><td>36</td><td>87</td><td>92</td></tr><tr><td>0175</td><td>Female</td><td>52</td><td>88</td><td>13</td></tr><tr><td>0176</td><td>Female</td><td>30</td><td>88</td><td>86</td></tr><tr><td>0177</td><td>Male</td><td>58</td><td>88</td><td>15</td></tr><tr><td>0178</td><td>Male</td><td>27</td><td>88</td><td>69</td></tr><tr><td>0179</td><td>Male</td><td>59</td><td>93</td><td>14</td></tr><tr><td>0180</td><td>Male</td><td>35</td><td>93</td><td>90</td></tr><tr><td>0181</td><td>Female</td><td>37</td><td>97</td><td>32</td></tr><tr><td>0182</td><td>Female</td><td>32</td><td>97</td><td>86</td></tr><tr><td>0183</td><td>Male</td><td>46</td><td>98</td><td>15</td></tr><tr><td>0184</td><td>Female</td><td>29</td><td>98</td><td>88</td></tr><tr><td>0185</td><td>Female</td><td>41</td><td>99</td><td>39</td></tr><tr><td>0186</td><td>Male</td><td>30</td><td>99</td><td>97</td></tr><tr><td>0187</td><td>Female</td><td>54</td><td>101</td><td>24</td></tr><tr><td>0188</td><td>Male</td><td>28</td><td>101</td><td>68</td></tr><tr><td>0189</td><td>Female</td><td>41</td><td>103</td><td>17</td></tr><tr><td>0190</td><td>Female</td><td>36</td><td>103</td><td>85</td></tr><tr><td>0191</td><td>Female</td><td>34</td><td>103</td><td>23</td></tr><tr><td>0192</td><td>Female</td><td>32</td><td>103</td><td>69</td></tr><tr><td>0193</td><td>Male</td><td>33</td><td>113</td><td>8</td></tr><tr><td>0194</td><td>Female</td><td>38</td><td>113</td><td>91</td></tr><tr><td>0195</td><td>Female</td><td>47</td><td>120</td><td>16</td></tr><tr><td>0196</td><td>Female</td><td>35</td><td>120</td><td>79</td></tr><tr><td>0197</td><td>Female</td><td>45</td><td>126</td><td>28</td></tr><tr><td>0198</td><td>Male</td><td>32</td><td>126</td><td>74</td></tr><tr><td>0199</td><td>Male</td><td>32</td><td>137</td><td>18</td></tr><tr><td>0200</td><td>Male</td><td>30</td><td>137</td><td>83</td></tr></tbody></table></div>"
      ]
     },
     "metadata": {
      "application/vnd.databricks.v1+output": {
       "addedWidgets": {},
       "aggData": [],
       "aggError": "",
       "aggOverflow": false,
       "aggSchema": [],
       "aggSeriesLimitReached": false,
       "aggType": "",
       "arguments": {},
       "columnCustomDisplayInfos": {},
       "data": [
        [
         "0001",
         "Male",
         "19",
         "15",
         "39"
        ],
        [
         "0002",
         "Male",
         "21",
         "15",
         "81"
        ],
        [
         "0003",
         "Female",
         "20",
         "16",
         "6"
        ],
        [
         "0004",
         "Female",
         "23",
         "16",
         "77"
        ],
        [
         "0005",
         "Female",
         "31",
         "17",
         "40"
        ],
        [
         "0006",
         "Female",
         "22",
         "17",
         "76"
        ],
        [
         "0007",
         "Female",
         "35",
         "18",
         "6"
        ],
        [
         "0008",
         "Female",
         "23",
         "18",
         "94"
        ],
        [
         "0009",
         "Male",
         "64",
         "19",
         "3"
        ],
        [
         "0010",
         "Female",
         "30",
         "19",
         "72"
        ],
        [
         "0011",
         "Male",
         "67",
         "19",
         "14"
        ],
        [
         "0012",
         "Female",
         "35",
         "19",
         "99"
        ],
        [
         "0013",
         "Female",
         "58",
         "20",
         "15"
        ],
        [
         "0014",
         "Female",
         "24",
         "20",
         "77"
        ],
        [
         "0015",
         "Male",
         "37",
         "20",
         "13"
        ],
        [
         "0016",
         "Male",
         "22",
         "20",
         "79"
        ],
        [
         "0017",
         "Female",
         "35",
         "21",
         "35"
        ],
        [
         "0018",
         "Male",
         "20",
         "21",
         "66"
        ],
        [
         "0019",
         "Male",
         "52",
         "23",
         "29"
        ],
        [
         "0020",
         "Female",
         "35",
         "23",
         "98"
        ],
        [
         "0021",
         "Male",
         "35",
         "24",
         "35"
        ],
        [
         "0022",
         "Male",
         "25",
         "24",
         "73"
        ],
        [
         "0023",
         "Female",
         "46",
         "25",
         "5"
        ],
        [
         "0024",
         "Male",
         "31",
         "25",
         "73"
        ],
        [
         "0025",
         "Female",
         "54",
         "28",
         "14"
        ],
        [
         "0026",
         "Male",
         "29",
         "28",
         "82"
        ],
        [
         "0027",
         "Female",
         "45",
         "28",
         "32"
        ],
        [
         "0028",
         "Male",
         "35",
         "28",
         "61"
        ],
        [
         "0029",
         "Female",
         "40",
         "29",
         "31"
        ],
        [
         "0030",
         "Female",
         "23",
         "29",
         "87"
        ],
        [
         "0031",
         "Male",
         "60",
         "30",
         "4"
        ],
        [
         "0032",
         "Female",
         "21",
         "30",
         "73"
        ],
        [
         "0033",
         "Male",
         "53",
         "33",
         "4"
        ],
        [
         "0034",
         "Male",
         "18",
         "33",
         "92"
        ],
        [
         "0035",
         "Female",
         "49",
         "33",
         "14"
        ],
        [
         "0036",
         "Female",
         "21",
         "33",
         "81"
        ],
        [
         "0037",
         "Female",
         "42",
         "34",
         "17"
        ],
        [
         "0038",
         "Female",
         "30",
         "34",
         "73"
        ],
        [
         "0039",
         "Female",
         "36",
         "37",
         "26"
        ],
        [
         "0040",
         "Female",
         "20",
         "37",
         "75"
        ],
        [
         "0041",
         "Female",
         "65",
         "38",
         "35"
        ],
        [
         "0042",
         "Male",
         "24",
         "38",
         "92"
        ],
        [
         "0043",
         "Male",
         "48",
         "39",
         "36"
        ],
        [
         "0044",
         "Female",
         "31",
         "39",
         "61"
        ],
        [
         "0045",
         "Female",
         "49",
         "39",
         "28"
        ],
        [
         "0046",
         "Female",
         "24",
         "39",
         "65"
        ],
        [
         "0047",
         "Female",
         "50",
         "40",
         "55"
        ],
        [
         "0048",
         "Female",
         "27",
         "40",
         "47"
        ],
        [
         "0049",
         "Female",
         "29",
         "40",
         "42"
        ],
        [
         "0050",
         "Female",
         "31",
         "40",
         "42"
        ],
        [
         "0051",
         "Female",
         "49",
         "42",
         "52"
        ],
        [
         "0052",
         "Male",
         "33",
         "42",
         "60"
        ],
        [
         "0053",
         "Female",
         "31",
         "43",
         "54"
        ],
        [
         "0054",
         "Male",
         "59",
         "43",
         "60"
        ],
        [
         "0055",
         "Female",
         "50",
         "43",
         "45"
        ],
        [
         "0056",
         "Male",
         "47",
         "43",
         "41"
        ],
        [
         "0057",
         "Female",
         "51",
         "44",
         "50"
        ],
        [
         "0058",
         "Male",
         "69",
         "44",
         "46"
        ],
        [
         "0059",
         "Female",
         "27",
         "46",
         "51"
        ],
        [
         "0060",
         "Male",
         "53",
         "46",
         "46"
        ],
        [
         "0061",
         "Male",
         "70",
         "46",
         "56"
        ],
        [
         "0062",
         "Male",
         "19",
         "46",
         "55"
        ],
        [
         "0063",
         "Female",
         "67",
         "47",
         "52"
        ],
        [
         "0064",
         "Female",
         "54",
         "47",
         "59"
        ],
        [
         "0065",
         "Male",
         "63",
         "48",
         "51"
        ],
        [
         "0066",
         "Male",
         "18",
         "48",
         "59"
        ],
        [
         "0067",
         "Female",
         "43",
         "48",
         "50"
        ],
        [
         "0068",
         "Female",
         "68",
         "48",
         "48"
        ],
        [
         "0069",
         "Male",
         "19",
         "48",
         "59"
        ],
        [
         "0070",
         "Female",
         "32",
         "48",
         "47"
        ],
        [
         "0071",
         "Male",
         "70",
         "49",
         "55"
        ],
        [
         "0072",
         "Female",
         "47",
         "49",
         "42"
        ],
        [
         "0073",
         "Female",
         "60",
         "50",
         "49"
        ],
        [
         "0074",
         "Female",
         "60",
         "50",
         "56"
        ],
        [
         "0075",
         "Male",
         "59",
         "54",
         "47"
        ],
        [
         "0076",
         "Male",
         "26",
         "54",
         "54"
        ],
        [
         "0077",
         "Female",
         "45",
         "54",
         "53"
        ],
        [
         "0078",
         "Male",
         "40",
         "54",
         "48"
        ],
        [
         "0079",
         "Female",
         "23",
         "54",
         "52"
        ],
        [
         "0080",
         "Female",
         "49",
         "54",
         "42"
        ],
        [
         "0081",
         "Male",
         "57",
         "54",
         "51"
        ],
        [
         "0082",
         "Male",
         "38",
         "54",
         "55"
        ],
        [
         "0083",
         "Male",
         "67",
         "54",
         "41"
        ],
        [
         "0084",
         "Female",
         "46",
         "54",
         "44"
        ],
        [
         "0085",
         "Female",
         "21",
         "54",
         "57"
        ],
        [
         "0086",
         "Male",
         "48",
         "54",
         "46"
        ],
        [
         "0087",
         "Female",
         "55",
         "57",
         "58"
        ],
        [
         "0088",
         "Female",
         "22",
         "57",
         "55"
        ],
        [
         "0089",
         "Female",
         "34",
         "58",
         "60"
        ],
        [
         "0090",
         "Female",
         "50",
         "58",
         "46"
        ],
        [
         "0091",
         "Female",
         "68",
         "59",
         "55"
        ],
        [
         "0092",
         "Male",
         "18",
         "59",
         "41"
        ],
        [
         "0093",
         "Male",
         "48",
         "60",
         "49"
        ],
        [
         "0094",
         "Female",
         "40",
         "60",
         "40"
        ],
        [
         "0095",
         "Female",
         "32",
         "60",
         "42"
        ],
        [
         "0096",
         "Male",
         "24",
         "60",
         "52"
        ],
        [
         "0097",
         "Female",
         "47",
         "60",
         "47"
        ],
        [
         "0098",
         "Female",
         "27",
         "60",
         "50"
        ],
        [
         "0099",
         "Male",
         "48",
         "61",
         "42"
        ],
        [
         "0100",
         "Male",
         "20",
         "61",
         "49"
        ],
        [
         "0101",
         "Female",
         "23",
         "62",
         "41"
        ],
        [
         "0102",
         "Female",
         "49",
         "62",
         "48"
        ],
        [
         "0103",
         "Male",
         "67",
         "62",
         "59"
        ],
        [
         "0104",
         "Male",
         "26",
         "62",
         "55"
        ],
        [
         "0105",
         "Male",
         "49",
         "62",
         "56"
        ],
        [
         "0106",
         "Female",
         "21",
         "62",
         "42"
        ],
        [
         "0107",
         "Female",
         "66",
         "63",
         "50"
        ],
        [
         "0108",
         "Male",
         "54",
         "63",
         "46"
        ],
        [
         "0109",
         "Male",
         "68",
         "63",
         "43"
        ],
        [
         "0110",
         "Male",
         "66",
         "63",
         "48"
        ],
        [
         "0111",
         "Male",
         "65",
         "63",
         "52"
        ],
        [
         "0112",
         "Female",
         "19",
         "63",
         "54"
        ],
        [
         "0113",
         "Female",
         "38",
         "64",
         "42"
        ],
        [
         "0114",
         "Male",
         "19",
         "64",
         "46"
        ],
        [
         "0115",
         "Female",
         "18",
         "65",
         "48"
        ],
        [
         "0116",
         "Female",
         "19",
         "65",
         "50"
        ],
        [
         "0117",
         "Female",
         "63",
         "65",
         "43"
        ],
        [
         "0118",
         "Female",
         "49",
         "65",
         "59"
        ],
        [
         "0119",
         "Female",
         "51",
         "67",
         "43"
        ],
        [
         "0120",
         "Female",
         "50",
         "67",
         "57"
        ],
        [
         "0121",
         "Male",
         "27",
         "67",
         "56"
        ],
        [
         "0122",
         "Female",
         "38",
         "67",
         "40"
        ],
        [
         "0123",
         "Female",
         "40",
         "69",
         "58"
        ],
        [
         "0124",
         "Male",
         "39",
         "69",
         "91"
        ],
        [
         "0125",
         "Female",
         "23",
         "70",
         "29"
        ],
        [
         "0126",
         "Female",
         "31",
         "70",
         "77"
        ],
        [
         "0127",
         "Male",
         "43",
         "71",
         "35"
        ],
        [
         "0128",
         "Male",
         "40",
         "71",
         "95"
        ],
        [
         "0129",
         "Male",
         "59",
         "71",
         "11"
        ],
        [
         "0130",
         "Male",
         "38",
         "71",
         "75"
        ],
        [
         "0131",
         "Male",
         "47",
         "71",
         "9"
        ],
        [
         "0132",
         "Male",
         "39",
         "71",
         "75"
        ],
        [
         "0133",
         "Female",
         "25",
         "72",
         "34"
        ],
        [
         "0134",
         "Female",
         "31",
         "72",
         "71"
        ],
        [
         "0135",
         "Male",
         "20",
         "73",
         "5"
        ],
        [
         "0136",
         "Female",
         "29",
         "73",
         "88"
        ],
        [
         "0137",
         "Female",
         "44",
         "73",
         "7"
        ],
        [
         "0138",
         "Male",
         "32",
         "73",
         "73"
        ],
        [
         "0139",
         "Male",
         "19",
         "74",
         "10"
        ],
        [
         "0140",
         "Female",
         "35",
         "74",
         "72"
        ],
        [
         "0141",
         "Female",
         "57",
         "75",
         "5"
        ],
        [
         "0142",
         "Male",
         "32",
         "75",
         "93"
        ],
        [
         "0143",
         "Female",
         "28",
         "76",
         "40"
        ],
        [
         "0144",
         "Female",
         "32",
         "76",
         "87"
        ],
        [
         "0145",
         "Male",
         "25",
         "77",
         "12"
        ],
        [
         "0146",
         "Male",
         "28",
         "77",
         "97"
        ],
        [
         "0147",
         "Male",
         "48",
         "77",
         "36"
        ],
        [
         "0148",
         "Female",
         "32",
         "77",
         "74"
        ],
        [
         "0149",
         "Female",
         "34",
         "78",
         "22"
        ],
        [
         "0150",
         "Male",
         "34",
         "78",
         "90"
        ],
        [
         "0151",
         "Male",
         "43",
         "78",
         "17"
        ],
        [
         "0152",
         "Male",
         "39",
         "78",
         "88"
        ],
        [
         "0153",
         "Female",
         "44",
         "78",
         "20"
        ],
        [
         "0154",
         "Female",
         "38",
         "78",
         "76"
        ],
        [
         "0155",
         "Female",
         "47",
         "78",
         "16"
        ],
        [
         "0156",
         "Female",
         "27",
         "78",
         "89"
        ],
        [
         "0157",
         "Male",
         "37",
         "78",
         "1"
        ],
        [
         "0158",
         "Female",
         "30",
         "78",
         "78"
        ],
        [
         "0159",
         "Male",
         "34",
         "78",
         "1"
        ],
        [
         "0160",
         "Female",
         "30",
         "78",
         "73"
        ],
        [
         "0161",
         "Female",
         "56",
         "79",
         "35"
        ],
        [
         "0162",
         "Female",
         "29",
         "79",
         "83"
        ],
        [
         "0163",
         "Male",
         "19",
         "81",
         "5"
        ],
        [
         "0164",
         "Female",
         "31",
         "81",
         "93"
        ],
        [
         "0165",
         "Male",
         "50",
         "85",
         "26"
        ],
        [
         "0166",
         "Female",
         "36",
         "85",
         "75"
        ],
        [
         "0167",
         "Male",
         "42",
         "86",
         "20"
        ],
        [
         "0168",
         "Female",
         "33",
         "86",
         "95"
        ],
        [
         "0169",
         "Female",
         "36",
         "87",
         "27"
        ],
        [
         "0170",
         "Male",
         "32",
         "87",
         "63"
        ],
        [
         "0171",
         "Male",
         "40",
         "87",
         "13"
        ],
        [
         "0172",
         "Male",
         "28",
         "87",
         "75"
        ],
        [
         "0173",
         "Male",
         "36",
         "87",
         "10"
        ],
        [
         "0174",
         "Male",
         "36",
         "87",
         "92"
        ],
        [
         "0175",
         "Female",
         "52",
         "88",
         "13"
        ],
        [
         "0176",
         "Female",
         "30",
         "88",
         "86"
        ],
        [
         "0177",
         "Male",
         "58",
         "88",
         "15"
        ],
        [
         "0178",
         "Male",
         "27",
         "88",
         "69"
        ],
        [
         "0179",
         "Male",
         "59",
         "93",
         "14"
        ],
        [
         "0180",
         "Male",
         "35",
         "93",
         "90"
        ],
        [
         "0181",
         "Female",
         "37",
         "97",
         "32"
        ],
        [
         "0182",
         "Female",
         "32",
         "97",
         "86"
        ],
        [
         "0183",
         "Male",
         "46",
         "98",
         "15"
        ],
        [
         "0184",
         "Female",
         "29",
         "98",
         "88"
        ],
        [
         "0185",
         "Female",
         "41",
         "99",
         "39"
        ],
        [
         "0186",
         "Male",
         "30",
         "99",
         "97"
        ],
        [
         "0187",
         "Female",
         "54",
         "101",
         "24"
        ],
        [
         "0188",
         "Male",
         "28",
         "101",
         "68"
        ],
        [
         "0189",
         "Female",
         "41",
         "103",
         "17"
        ],
        [
         "0190",
         "Female",
         "36",
         "103",
         "85"
        ],
        [
         "0191",
         "Female",
         "34",
         "103",
         "23"
        ],
        [
         "0192",
         "Female",
         "32",
         "103",
         "69"
        ],
        [
         "0193",
         "Male",
         "33",
         "113",
         "8"
        ],
        [
         "0194",
         "Female",
         "38",
         "113",
         "91"
        ],
        [
         "0195",
         "Female",
         "47",
         "120",
         "16"
        ],
        [
         "0196",
         "Female",
         "35",
         "120",
         "79"
        ],
        [
         "0197",
         "Female",
         "45",
         "126",
         "28"
        ],
        [
         "0198",
         "Male",
         "32",
         "126",
         "74"
        ],
        [
         "0199",
         "Male",
         "32",
         "137",
         "18"
        ],
        [
         "0200",
         "Male",
         "30",
         "137",
         "83"
        ]
       ],
       "datasetInfos": [],
       "dbfsResultPath": null,
       "isJsonSchema": true,
       "metadata": {},
       "overflow": false,
       "plotOptions": {
        "customPlotOptions": {},
        "displayType": "table",
        "pivotAggregation": null,
        "pivotColumns": null,
        "xColumns": null,
        "yColumns": null
       },
       "removedWidgets": [],
       "schema": [
        {
         "metadata": "{}",
         "name": "CustomerID",
         "type": "\"string\""
        },
        {
         "metadata": "{}",
         "name": "Genre",
         "type": "\"string\""
        },
        {
         "metadata": "{}",
         "name": "Age",
         "type": "\"string\""
        },
        {
         "metadata": "{}",
         "name": "Annual Income (k$)",
         "type": "\"string\""
        },
        {
         "metadata": "{}",
         "name": "Spending Score (1-100)",
         "type": "\"string\""
        }
       ],
       "type": "table"
      }
     },
     "output_type": "display_data"
    }
   ],
   "source": [
    "%sql\n",
    "--Crear una tabla temporal con los datos de la vista temporal:\n",
    "SELECT * FROM temp_customers;\n"
   ]
  },
  {
   "cell_type": "code",
   "execution_count": 0,
   "metadata": {
    "application/vnd.databricks.v1+cell": {
     "cellMetadata": {
      "byteLimit": 2048000,
      "rowLimit": 10000
     },
     "inputWidgets": {},
     "nuid": "461f2787-2074-4a43-a6b1-d4bb8dc57939",
     "showTitle": false,
     "title": ""
    }
   },
   "outputs": [],
   "source": [
    "\n",
    "# Guardar el DataFrame en formato Parquet\n",
    "df.write.parquet(\"/ruta/al/almacenamiento/customers_parquet\")"
   ]
  },
  {
   "cell_type": "code",
   "execution_count": 0,
   "metadata": {
    "application/vnd.databricks.v1+cell": {
     "cellMetadata": {
      "byteLimit": 2048000,
      "rowLimit": 10000
     },
     "inputWidgets": {},
     "nuid": "efbab49e-0f4e-4dda-9283-48b3dc1689d5",
     "showTitle": false,
     "title": ""
    }
   },
   "outputs": [
    {
     "output_type": "display_data",
     "data": {
      "text/html": [
       "<style scoped>\n",
       "  .table-result-container {\n",
       "    max-height: 300px;\n",
       "    overflow: auto;\n",
       "  }\n",
       "  table, th, td {\n",
       "    border: 1px solid black;\n",
       "    border-collapse: collapse;\n",
       "  }\n",
       "  th, td {\n",
       "    padding: 5px;\n",
       "  }\n",
       "  th {\n",
       "    text-align: left;\n",
       "  }\n",
       "</style><div class='table-result-container'><table class='table-result'><thead style='background-color: white'><tr><th>CustomerID</th><th>Genre</th><th>Age</th><th>Annual Income (k$)</th><th>Spending Score (1-100)</th></tr></thead><tbody><tr><td>0001</td><td>Male</td><td>19</td><td>15</td><td>39</td></tr><tr><td>0002</td><td>Male</td><td>21</td><td>15</td><td>81</td></tr><tr><td>0003</td><td>Female</td><td>20</td><td>16</td><td>6</td></tr><tr><td>0004</td><td>Female</td><td>23</td><td>16</td><td>77</td></tr><tr><td>0005</td><td>Female</td><td>31</td><td>17</td><td>40</td></tr><tr><td>0006</td><td>Female</td><td>22</td><td>17</td><td>76</td></tr><tr><td>0007</td><td>Female</td><td>35</td><td>18</td><td>6</td></tr><tr><td>0008</td><td>Female</td><td>23</td><td>18</td><td>94</td></tr><tr><td>0009</td><td>Male</td><td>64</td><td>19</td><td>3</td></tr><tr><td>0010</td><td>Female</td><td>30</td><td>19</td><td>72</td></tr><tr><td>0011</td><td>Male</td><td>67</td><td>19</td><td>14</td></tr><tr><td>0012</td><td>Female</td><td>35</td><td>19</td><td>99</td></tr><tr><td>0013</td><td>Female</td><td>58</td><td>20</td><td>15</td></tr><tr><td>0014</td><td>Female</td><td>24</td><td>20</td><td>77</td></tr><tr><td>0015</td><td>Male</td><td>37</td><td>20</td><td>13</td></tr><tr><td>0016</td><td>Male</td><td>22</td><td>20</td><td>79</td></tr><tr><td>0017</td><td>Female</td><td>35</td><td>21</td><td>35</td></tr><tr><td>0018</td><td>Male</td><td>20</td><td>21</td><td>66</td></tr><tr><td>0019</td><td>Male</td><td>52</td><td>23</td><td>29</td></tr><tr><td>0020</td><td>Female</td><td>35</td><td>23</td><td>98</td></tr><tr><td>0021</td><td>Male</td><td>35</td><td>24</td><td>35</td></tr><tr><td>0022</td><td>Male</td><td>25</td><td>24</td><td>73</td></tr><tr><td>0023</td><td>Female</td><td>46</td><td>25</td><td>5</td></tr><tr><td>0024</td><td>Male</td><td>31</td><td>25</td><td>73</td></tr><tr><td>0025</td><td>Female</td><td>54</td><td>28</td><td>14</td></tr><tr><td>0026</td><td>Male</td><td>29</td><td>28</td><td>82</td></tr><tr><td>0027</td><td>Female</td><td>45</td><td>28</td><td>32</td></tr><tr><td>0028</td><td>Male</td><td>35</td><td>28</td><td>61</td></tr><tr><td>0029</td><td>Female</td><td>40</td><td>29</td><td>31</td></tr><tr><td>0030</td><td>Female</td><td>23</td><td>29</td><td>87</td></tr><tr><td>0031</td><td>Male</td><td>60</td><td>30</td><td>4</td></tr><tr><td>0032</td><td>Female</td><td>21</td><td>30</td><td>73</td></tr><tr><td>0033</td><td>Male</td><td>53</td><td>33</td><td>4</td></tr><tr><td>0034</td><td>Male</td><td>18</td><td>33</td><td>92</td></tr><tr><td>0035</td><td>Female</td><td>49</td><td>33</td><td>14</td></tr><tr><td>0036</td><td>Female</td><td>21</td><td>33</td><td>81</td></tr><tr><td>0037</td><td>Female</td><td>42</td><td>34</td><td>17</td></tr><tr><td>0038</td><td>Female</td><td>30</td><td>34</td><td>73</td></tr><tr><td>0039</td><td>Female</td><td>36</td><td>37</td><td>26</td></tr><tr><td>0040</td><td>Female</td><td>20</td><td>37</td><td>75</td></tr><tr><td>0041</td><td>Female</td><td>65</td><td>38</td><td>35</td></tr><tr><td>0042</td><td>Male</td><td>24</td><td>38</td><td>92</td></tr><tr><td>0043</td><td>Male</td><td>48</td><td>39</td><td>36</td></tr><tr><td>0044</td><td>Female</td><td>31</td><td>39</td><td>61</td></tr><tr><td>0045</td><td>Female</td><td>49</td><td>39</td><td>28</td></tr><tr><td>0046</td><td>Female</td><td>24</td><td>39</td><td>65</td></tr><tr><td>0047</td><td>Female</td><td>50</td><td>40</td><td>55</td></tr><tr><td>0048</td><td>Female</td><td>27</td><td>40</td><td>47</td></tr><tr><td>0049</td><td>Female</td><td>29</td><td>40</td><td>42</td></tr><tr><td>0050</td><td>Female</td><td>31</td><td>40</td><td>42</td></tr><tr><td>0051</td><td>Female</td><td>49</td><td>42</td><td>52</td></tr><tr><td>0052</td><td>Male</td><td>33</td><td>42</td><td>60</td></tr><tr><td>0053</td><td>Female</td><td>31</td><td>43</td><td>54</td></tr><tr><td>0054</td><td>Male</td><td>59</td><td>43</td><td>60</td></tr><tr><td>0055</td><td>Female</td><td>50</td><td>43</td><td>45</td></tr><tr><td>0056</td><td>Male</td><td>47</td><td>43</td><td>41</td></tr><tr><td>0057</td><td>Female</td><td>51</td><td>44</td><td>50</td></tr><tr><td>0058</td><td>Male</td><td>69</td><td>44</td><td>46</td></tr><tr><td>0059</td><td>Female</td><td>27</td><td>46</td><td>51</td></tr><tr><td>0060</td><td>Male</td><td>53</td><td>46</td><td>46</td></tr><tr><td>0061</td><td>Male</td><td>70</td><td>46</td><td>56</td></tr><tr><td>0062</td><td>Male</td><td>19</td><td>46</td><td>55</td></tr><tr><td>0063</td><td>Female</td><td>67</td><td>47</td><td>52</td></tr><tr><td>0064</td><td>Female</td><td>54</td><td>47</td><td>59</td></tr><tr><td>0065</td><td>Male</td><td>63</td><td>48</td><td>51</td></tr><tr><td>0066</td><td>Male</td><td>18</td><td>48</td><td>59</td></tr><tr><td>0067</td><td>Female</td><td>43</td><td>48</td><td>50</td></tr><tr><td>0068</td><td>Female</td><td>68</td><td>48</td><td>48</td></tr><tr><td>0069</td><td>Male</td><td>19</td><td>48</td><td>59</td></tr><tr><td>0070</td><td>Female</td><td>32</td><td>48</td><td>47</td></tr><tr><td>0071</td><td>Male</td><td>70</td><td>49</td><td>55</td></tr><tr><td>0072</td><td>Female</td><td>47</td><td>49</td><td>42</td></tr><tr><td>0073</td><td>Female</td><td>60</td><td>50</td><td>49</td></tr><tr><td>0074</td><td>Female</td><td>60</td><td>50</td><td>56</td></tr><tr><td>0075</td><td>Male</td><td>59</td><td>54</td><td>47</td></tr><tr><td>0076</td><td>Male</td><td>26</td><td>54</td><td>54</td></tr><tr><td>0077</td><td>Female</td><td>45</td><td>54</td><td>53</td></tr><tr><td>0078</td><td>Male</td><td>40</td><td>54</td><td>48</td></tr><tr><td>0079</td><td>Female</td><td>23</td><td>54</td><td>52</td></tr><tr><td>0080</td><td>Female</td><td>49</td><td>54</td><td>42</td></tr><tr><td>0081</td><td>Male</td><td>57</td><td>54</td><td>51</td></tr><tr><td>0082</td><td>Male</td><td>38</td><td>54</td><td>55</td></tr><tr><td>0083</td><td>Male</td><td>67</td><td>54</td><td>41</td></tr><tr><td>0084</td><td>Female</td><td>46</td><td>54</td><td>44</td></tr><tr><td>0085</td><td>Female</td><td>21</td><td>54</td><td>57</td></tr><tr><td>0086</td><td>Male</td><td>48</td><td>54</td><td>46</td></tr><tr><td>0087</td><td>Female</td><td>55</td><td>57</td><td>58</td></tr><tr><td>0088</td><td>Female</td><td>22</td><td>57</td><td>55</td></tr><tr><td>0089</td><td>Female</td><td>34</td><td>58</td><td>60</td></tr><tr><td>0090</td><td>Female</td><td>50</td><td>58</td><td>46</td></tr><tr><td>0091</td><td>Female</td><td>68</td><td>59</td><td>55</td></tr><tr><td>0092</td><td>Male</td><td>18</td><td>59</td><td>41</td></tr><tr><td>0093</td><td>Male</td><td>48</td><td>60</td><td>49</td></tr><tr><td>0094</td><td>Female</td><td>40</td><td>60</td><td>40</td></tr><tr><td>0095</td><td>Female</td><td>32</td><td>60</td><td>42</td></tr><tr><td>0096</td><td>Male</td><td>24</td><td>60</td><td>52</td></tr><tr><td>0097</td><td>Female</td><td>47</td><td>60</td><td>47</td></tr><tr><td>0098</td><td>Female</td><td>27</td><td>60</td><td>50</td></tr><tr><td>0099</td><td>Male</td><td>48</td><td>61</td><td>42</td></tr><tr><td>0100</td><td>Male</td><td>20</td><td>61</td><td>49</td></tr><tr><td>0101</td><td>Female</td><td>23</td><td>62</td><td>41</td></tr><tr><td>0102</td><td>Female</td><td>49</td><td>62</td><td>48</td></tr><tr><td>0103</td><td>Male</td><td>67</td><td>62</td><td>59</td></tr><tr><td>0104</td><td>Male</td><td>26</td><td>62</td><td>55</td></tr><tr><td>0105</td><td>Male</td><td>49</td><td>62</td><td>56</td></tr><tr><td>0106</td><td>Female</td><td>21</td><td>62</td><td>42</td></tr><tr><td>0107</td><td>Female</td><td>66</td><td>63</td><td>50</td></tr><tr><td>0108</td><td>Male</td><td>54</td><td>63</td><td>46</td></tr><tr><td>0109</td><td>Male</td><td>68</td><td>63</td><td>43</td></tr><tr><td>0110</td><td>Male</td><td>66</td><td>63</td><td>48</td></tr><tr><td>0111</td><td>Male</td><td>65</td><td>63</td><td>52</td></tr><tr><td>0112</td><td>Female</td><td>19</td><td>63</td><td>54</td></tr><tr><td>0113</td><td>Female</td><td>38</td><td>64</td><td>42</td></tr><tr><td>0114</td><td>Male</td><td>19</td><td>64</td><td>46</td></tr><tr><td>0115</td><td>Female</td><td>18</td><td>65</td><td>48</td></tr><tr><td>0116</td><td>Female</td><td>19</td><td>65</td><td>50</td></tr><tr><td>0117</td><td>Female</td><td>63</td><td>65</td><td>43</td></tr><tr><td>0118</td><td>Female</td><td>49</td><td>65</td><td>59</td></tr><tr><td>0119</td><td>Female</td><td>51</td><td>67</td><td>43</td></tr><tr><td>0120</td><td>Female</td><td>50</td><td>67</td><td>57</td></tr><tr><td>0121</td><td>Male</td><td>27</td><td>67</td><td>56</td></tr><tr><td>0122</td><td>Female</td><td>38</td><td>67</td><td>40</td></tr><tr><td>0123</td><td>Female</td><td>40</td><td>69</td><td>58</td></tr><tr><td>0124</td><td>Male</td><td>39</td><td>69</td><td>91</td></tr><tr><td>0125</td><td>Female</td><td>23</td><td>70</td><td>29</td></tr><tr><td>0126</td><td>Female</td><td>31</td><td>70</td><td>77</td></tr><tr><td>0127</td><td>Male</td><td>43</td><td>71</td><td>35</td></tr><tr><td>0128</td><td>Male</td><td>40</td><td>71</td><td>95</td></tr><tr><td>0129</td><td>Male</td><td>59</td><td>71</td><td>11</td></tr><tr><td>0130</td><td>Male</td><td>38</td><td>71</td><td>75</td></tr><tr><td>0131</td><td>Male</td><td>47</td><td>71</td><td>9</td></tr><tr><td>0132</td><td>Male</td><td>39</td><td>71</td><td>75</td></tr><tr><td>0133</td><td>Female</td><td>25</td><td>72</td><td>34</td></tr><tr><td>0134</td><td>Female</td><td>31</td><td>72</td><td>71</td></tr><tr><td>0135</td><td>Male</td><td>20</td><td>73</td><td>5</td></tr><tr><td>0136</td><td>Female</td><td>29</td><td>73</td><td>88</td></tr><tr><td>0137</td><td>Female</td><td>44</td><td>73</td><td>7</td></tr><tr><td>0138</td><td>Male</td><td>32</td><td>73</td><td>73</td></tr><tr><td>0139</td><td>Male</td><td>19</td><td>74</td><td>10</td></tr><tr><td>0140</td><td>Female</td><td>35</td><td>74</td><td>72</td></tr><tr><td>0141</td><td>Female</td><td>57</td><td>75</td><td>5</td></tr><tr><td>0142</td><td>Male</td><td>32</td><td>75</td><td>93</td></tr><tr><td>0143</td><td>Female</td><td>28</td><td>76</td><td>40</td></tr><tr><td>0144</td><td>Female</td><td>32</td><td>76</td><td>87</td></tr><tr><td>0145</td><td>Male</td><td>25</td><td>77</td><td>12</td></tr><tr><td>0146</td><td>Male</td><td>28</td><td>77</td><td>97</td></tr><tr><td>0147</td><td>Male</td><td>48</td><td>77</td><td>36</td></tr><tr><td>0148</td><td>Female</td><td>32</td><td>77</td><td>74</td></tr><tr><td>0149</td><td>Female</td><td>34</td><td>78</td><td>22</td></tr><tr><td>0150</td><td>Male</td><td>34</td><td>78</td><td>90</td></tr><tr><td>0151</td><td>Male</td><td>43</td><td>78</td><td>17</td></tr><tr><td>0152</td><td>Male</td><td>39</td><td>78</td><td>88</td></tr><tr><td>0153</td><td>Female</td><td>44</td><td>78</td><td>20</td></tr><tr><td>0154</td><td>Female</td><td>38</td><td>78</td><td>76</td></tr><tr><td>0155</td><td>Female</td><td>47</td><td>78</td><td>16</td></tr><tr><td>0156</td><td>Female</td><td>27</td><td>78</td><td>89</td></tr><tr><td>0157</td><td>Male</td><td>37</td><td>78</td><td>1</td></tr><tr><td>0158</td><td>Female</td><td>30</td><td>78</td><td>78</td></tr><tr><td>0159</td><td>Male</td><td>34</td><td>78</td><td>1</td></tr><tr><td>0160</td><td>Female</td><td>30</td><td>78</td><td>73</td></tr><tr><td>0161</td><td>Female</td><td>56</td><td>79</td><td>35</td></tr><tr><td>0162</td><td>Female</td><td>29</td><td>79</td><td>83</td></tr><tr><td>0163</td><td>Male</td><td>19</td><td>81</td><td>5</td></tr><tr><td>0164</td><td>Female</td><td>31</td><td>81</td><td>93</td></tr><tr><td>0165</td><td>Male</td><td>50</td><td>85</td><td>26</td></tr><tr><td>0166</td><td>Female</td><td>36</td><td>85</td><td>75</td></tr><tr><td>0167</td><td>Male</td><td>42</td><td>86</td><td>20</td></tr><tr><td>0168</td><td>Female</td><td>33</td><td>86</td><td>95</td></tr><tr><td>0169</td><td>Female</td><td>36</td><td>87</td><td>27</td></tr><tr><td>0170</td><td>Male</td><td>32</td><td>87</td><td>63</td></tr><tr><td>0171</td><td>Male</td><td>40</td><td>87</td><td>13</td></tr><tr><td>0172</td><td>Male</td><td>28</td><td>87</td><td>75</td></tr><tr><td>0173</td><td>Male</td><td>36</td><td>87</td><td>10</td></tr><tr><td>0174</td><td>Male</td><td>36</td><td>87</td><td>92</td></tr><tr><td>0175</td><td>Female</td><td>52</td><td>88</td><td>13</td></tr><tr><td>0176</td><td>Female</td><td>30</td><td>88</td><td>86</td></tr><tr><td>0177</td><td>Male</td><td>58</td><td>88</td><td>15</td></tr><tr><td>0178</td><td>Male</td><td>27</td><td>88</td><td>69</td></tr><tr><td>0179</td><td>Male</td><td>59</td><td>93</td><td>14</td></tr><tr><td>0180</td><td>Male</td><td>35</td><td>93</td><td>90</td></tr><tr><td>0181</td><td>Female</td><td>37</td><td>97</td><td>32</td></tr><tr><td>0182</td><td>Female</td><td>32</td><td>97</td><td>86</td></tr><tr><td>0183</td><td>Male</td><td>46</td><td>98</td><td>15</td></tr><tr><td>0184</td><td>Female</td><td>29</td><td>98</td><td>88</td></tr><tr><td>0185</td><td>Female</td><td>41</td><td>99</td><td>39</td></tr><tr><td>0186</td><td>Male</td><td>30</td><td>99</td><td>97</td></tr><tr><td>0187</td><td>Female</td><td>54</td><td>101</td><td>24</td></tr><tr><td>0188</td><td>Male</td><td>28</td><td>101</td><td>68</td></tr><tr><td>0189</td><td>Female</td><td>41</td><td>103</td><td>17</td></tr><tr><td>0190</td><td>Female</td><td>36</td><td>103</td><td>85</td></tr><tr><td>0191</td><td>Female</td><td>34</td><td>103</td><td>23</td></tr><tr><td>0192</td><td>Female</td><td>32</td><td>103</td><td>69</td></tr><tr><td>0193</td><td>Male</td><td>33</td><td>113</td><td>8</td></tr><tr><td>0194</td><td>Female</td><td>38</td><td>113</td><td>91</td></tr><tr><td>0195</td><td>Female</td><td>47</td><td>120</td><td>16</td></tr><tr><td>0196</td><td>Female</td><td>35</td><td>120</td><td>79</td></tr><tr><td>0197</td><td>Female</td><td>45</td><td>126</td><td>28</td></tr><tr><td>0198</td><td>Male</td><td>32</td><td>126</td><td>74</td></tr><tr><td>0199</td><td>Male</td><td>32</td><td>137</td><td>18</td></tr><tr><td>0200</td><td>Male</td><td>30</td><td>137</td><td>83</td></tr></tbody></table></div>"
      ]
     },
     "metadata": {
      "application/vnd.databricks.v1+output": {
       "addedWidgets": {},
       "aggData": [],
       "aggError": "",
       "aggOverflow": false,
       "aggSchema": [],
       "aggSeriesLimitReached": false,
       "aggType": "",
       "arguments": {},
       "columnCustomDisplayInfos": {},
       "data": [
        [
         "0001",
         "Male",
         "19",
         "15",
         "39"
        ],
        [
         "0002",
         "Male",
         "21",
         "15",
         "81"
        ],
        [
         "0003",
         "Female",
         "20",
         "16",
         "6"
        ],
        [
         "0004",
         "Female",
         "23",
         "16",
         "77"
        ],
        [
         "0005",
         "Female",
         "31",
         "17",
         "40"
        ],
        [
         "0006",
         "Female",
         "22",
         "17",
         "76"
        ],
        [
         "0007",
         "Female",
         "35",
         "18",
         "6"
        ],
        [
         "0008",
         "Female",
         "23",
         "18",
         "94"
        ],
        [
         "0009",
         "Male",
         "64",
         "19",
         "3"
        ],
        [
         "0010",
         "Female",
         "30",
         "19",
         "72"
        ],
        [
         "0011",
         "Male",
         "67",
         "19",
         "14"
        ],
        [
         "0012",
         "Female",
         "35",
         "19",
         "99"
        ],
        [
         "0013",
         "Female",
         "58",
         "20",
         "15"
        ],
        [
         "0014",
         "Female",
         "24",
         "20",
         "77"
        ],
        [
         "0015",
         "Male",
         "37",
         "20",
         "13"
        ],
        [
         "0016",
         "Male",
         "22",
         "20",
         "79"
        ],
        [
         "0017",
         "Female",
         "35",
         "21",
         "35"
        ],
        [
         "0018",
         "Male",
         "20",
         "21",
         "66"
        ],
        [
         "0019",
         "Male",
         "52",
         "23",
         "29"
        ],
        [
         "0020",
         "Female",
         "35",
         "23",
         "98"
        ],
        [
         "0021",
         "Male",
         "35",
         "24",
         "35"
        ],
        [
         "0022",
         "Male",
         "25",
         "24",
         "73"
        ],
        [
         "0023",
         "Female",
         "46",
         "25",
         "5"
        ],
        [
         "0024",
         "Male",
         "31",
         "25",
         "73"
        ],
        [
         "0025",
         "Female",
         "54",
         "28",
         "14"
        ],
        [
         "0026",
         "Male",
         "29",
         "28",
         "82"
        ],
        [
         "0027",
         "Female",
         "45",
         "28",
         "32"
        ],
        [
         "0028",
         "Male",
         "35",
         "28",
         "61"
        ],
        [
         "0029",
         "Female",
         "40",
         "29",
         "31"
        ],
        [
         "0030",
         "Female",
         "23",
         "29",
         "87"
        ],
        [
         "0031",
         "Male",
         "60",
         "30",
         "4"
        ],
        [
         "0032",
         "Female",
         "21",
         "30",
         "73"
        ],
        [
         "0033",
         "Male",
         "53",
         "33",
         "4"
        ],
        [
         "0034",
         "Male",
         "18",
         "33",
         "92"
        ],
        [
         "0035",
         "Female",
         "49",
         "33",
         "14"
        ],
        [
         "0036",
         "Female",
         "21",
         "33",
         "81"
        ],
        [
         "0037",
         "Female",
         "42",
         "34",
         "17"
        ],
        [
         "0038",
         "Female",
         "30",
         "34",
         "73"
        ],
        [
         "0039",
         "Female",
         "36",
         "37",
         "26"
        ],
        [
         "0040",
         "Female",
         "20",
         "37",
         "75"
        ],
        [
         "0041",
         "Female",
         "65",
         "38",
         "35"
        ],
        [
         "0042",
         "Male",
         "24",
         "38",
         "92"
        ],
        [
         "0043",
         "Male",
         "48",
         "39",
         "36"
        ],
        [
         "0044",
         "Female",
         "31",
         "39",
         "61"
        ],
        [
         "0045",
         "Female",
         "49",
         "39",
         "28"
        ],
        [
         "0046",
         "Female",
         "24",
         "39",
         "65"
        ],
        [
         "0047",
         "Female",
         "50",
         "40",
         "55"
        ],
        [
         "0048",
         "Female",
         "27",
         "40",
         "47"
        ],
        [
         "0049",
         "Female",
         "29",
         "40",
         "42"
        ],
        [
         "0050",
         "Female",
         "31",
         "40",
         "42"
        ],
        [
         "0051",
         "Female",
         "49",
         "42",
         "52"
        ],
        [
         "0052",
         "Male",
         "33",
         "42",
         "60"
        ],
        [
         "0053",
         "Female",
         "31",
         "43",
         "54"
        ],
        [
         "0054",
         "Male",
         "59",
         "43",
         "60"
        ],
        [
         "0055",
         "Female",
         "50",
         "43",
         "45"
        ],
        [
         "0056",
         "Male",
         "47",
         "43",
         "41"
        ],
        [
         "0057",
         "Female",
         "51",
         "44",
         "50"
        ],
        [
         "0058",
         "Male",
         "69",
         "44",
         "46"
        ],
        [
         "0059",
         "Female",
         "27",
         "46",
         "51"
        ],
        [
         "0060",
         "Male",
         "53",
         "46",
         "46"
        ],
        [
         "0061",
         "Male",
         "70",
         "46",
         "56"
        ],
        [
         "0062",
         "Male",
         "19",
         "46",
         "55"
        ],
        [
         "0063",
         "Female",
         "67",
         "47",
         "52"
        ],
        [
         "0064",
         "Female",
         "54",
         "47",
         "59"
        ],
        [
         "0065",
         "Male",
         "63",
         "48",
         "51"
        ],
        [
         "0066",
         "Male",
         "18",
         "48",
         "59"
        ],
        [
         "0067",
         "Female",
         "43",
         "48",
         "50"
        ],
        [
         "0068",
         "Female",
         "68",
         "48",
         "48"
        ],
        [
         "0069",
         "Male",
         "19",
         "48",
         "59"
        ],
        [
         "0070",
         "Female",
         "32",
         "48",
         "47"
        ],
        [
         "0071",
         "Male",
         "70",
         "49",
         "55"
        ],
        [
         "0072",
         "Female",
         "47",
         "49",
         "42"
        ],
        [
         "0073",
         "Female",
         "60",
         "50",
         "49"
        ],
        [
         "0074",
         "Female",
         "60",
         "50",
         "56"
        ],
        [
         "0075",
         "Male",
         "59",
         "54",
         "47"
        ],
        [
         "0076",
         "Male",
         "26",
         "54",
         "54"
        ],
        [
         "0077",
         "Female",
         "45",
         "54",
         "53"
        ],
        [
         "0078",
         "Male",
         "40",
         "54",
         "48"
        ],
        [
         "0079",
         "Female",
         "23",
         "54",
         "52"
        ],
        [
         "0080",
         "Female",
         "49",
         "54",
         "42"
        ],
        [
         "0081",
         "Male",
         "57",
         "54",
         "51"
        ],
        [
         "0082",
         "Male",
         "38",
         "54",
         "55"
        ],
        [
         "0083",
         "Male",
         "67",
         "54",
         "41"
        ],
        [
         "0084",
         "Female",
         "46",
         "54",
         "44"
        ],
        [
         "0085",
         "Female",
         "21",
         "54",
         "57"
        ],
        [
         "0086",
         "Male",
         "48",
         "54",
         "46"
        ],
        [
         "0087",
         "Female",
         "55",
         "57",
         "58"
        ],
        [
         "0088",
         "Female",
         "22",
         "57",
         "55"
        ],
        [
         "0089",
         "Female",
         "34",
         "58",
         "60"
        ],
        [
         "0090",
         "Female",
         "50",
         "58",
         "46"
        ],
        [
         "0091",
         "Female",
         "68",
         "59",
         "55"
        ],
        [
         "0092",
         "Male",
         "18",
         "59",
         "41"
        ],
        [
         "0093",
         "Male",
         "48",
         "60",
         "49"
        ],
        [
         "0094",
         "Female",
         "40",
         "60",
         "40"
        ],
        [
         "0095",
         "Female",
         "32",
         "60",
         "42"
        ],
        [
         "0096",
         "Male",
         "24",
         "60",
         "52"
        ],
        [
         "0097",
         "Female",
         "47",
         "60",
         "47"
        ],
        [
         "0098",
         "Female",
         "27",
         "60",
         "50"
        ],
        [
         "0099",
         "Male",
         "48",
         "61",
         "42"
        ],
        [
         "0100",
         "Male",
         "20",
         "61",
         "49"
        ],
        [
         "0101",
         "Female",
         "23",
         "62",
         "41"
        ],
        [
         "0102",
         "Female",
         "49",
         "62",
         "48"
        ],
        [
         "0103",
         "Male",
         "67",
         "62",
         "59"
        ],
        [
         "0104",
         "Male",
         "26",
         "62",
         "55"
        ],
        [
         "0105",
         "Male",
         "49",
         "62",
         "56"
        ],
        [
         "0106",
         "Female",
         "21",
         "62",
         "42"
        ],
        [
         "0107",
         "Female",
         "66",
         "63",
         "50"
        ],
        [
         "0108",
         "Male",
         "54",
         "63",
         "46"
        ],
        [
         "0109",
         "Male",
         "68",
         "63",
         "43"
        ],
        [
         "0110",
         "Male",
         "66",
         "63",
         "48"
        ],
        [
         "0111",
         "Male",
         "65",
         "63",
         "52"
        ],
        [
         "0112",
         "Female",
         "19",
         "63",
         "54"
        ],
        [
         "0113",
         "Female",
         "38",
         "64",
         "42"
        ],
        [
         "0114",
         "Male",
         "19",
         "64",
         "46"
        ],
        [
         "0115",
         "Female",
         "18",
         "65",
         "48"
        ],
        [
         "0116",
         "Female",
         "19",
         "65",
         "50"
        ],
        [
         "0117",
         "Female",
         "63",
         "65",
         "43"
        ],
        [
         "0118",
         "Female",
         "49",
         "65",
         "59"
        ],
        [
         "0119",
         "Female",
         "51",
         "67",
         "43"
        ],
        [
         "0120",
         "Female",
         "50",
         "67",
         "57"
        ],
        [
         "0121",
         "Male",
         "27",
         "67",
         "56"
        ],
        [
         "0122",
         "Female",
         "38",
         "67",
         "40"
        ],
        [
         "0123",
         "Female",
         "40",
         "69",
         "58"
        ],
        [
         "0124",
         "Male",
         "39",
         "69",
         "91"
        ],
        [
         "0125",
         "Female",
         "23",
         "70",
         "29"
        ],
        [
         "0126",
         "Female",
         "31",
         "70",
         "77"
        ],
        [
         "0127",
         "Male",
         "43",
         "71",
         "35"
        ],
        [
         "0128",
         "Male",
         "40",
         "71",
         "95"
        ],
        [
         "0129",
         "Male",
         "59",
         "71",
         "11"
        ],
        [
         "0130",
         "Male",
         "38",
         "71",
         "75"
        ],
        [
         "0131",
         "Male",
         "47",
         "71",
         "9"
        ],
        [
         "0132",
         "Male",
         "39",
         "71",
         "75"
        ],
        [
         "0133",
         "Female",
         "25",
         "72",
         "34"
        ],
        [
         "0134",
         "Female",
         "31",
         "72",
         "71"
        ],
        [
         "0135",
         "Male",
         "20",
         "73",
         "5"
        ],
        [
         "0136",
         "Female",
         "29",
         "73",
         "88"
        ],
        [
         "0137",
         "Female",
         "44",
         "73",
         "7"
        ],
        [
         "0138",
         "Male",
         "32",
         "73",
         "73"
        ],
        [
         "0139",
         "Male",
         "19",
         "74",
         "10"
        ],
        [
         "0140",
         "Female",
         "35",
         "74",
         "72"
        ],
        [
         "0141",
         "Female",
         "57",
         "75",
         "5"
        ],
        [
         "0142",
         "Male",
         "32",
         "75",
         "93"
        ],
        [
         "0143",
         "Female",
         "28",
         "76",
         "40"
        ],
        [
         "0144",
         "Female",
         "32",
         "76",
         "87"
        ],
        [
         "0145",
         "Male",
         "25",
         "77",
         "12"
        ],
        [
         "0146",
         "Male",
         "28",
         "77",
         "97"
        ],
        [
         "0147",
         "Male",
         "48",
         "77",
         "36"
        ],
        [
         "0148",
         "Female",
         "32",
         "77",
         "74"
        ],
        [
         "0149",
         "Female",
         "34",
         "78",
         "22"
        ],
        [
         "0150",
         "Male",
         "34",
         "78",
         "90"
        ],
        [
         "0151",
         "Male",
         "43",
         "78",
         "17"
        ],
        [
         "0152",
         "Male",
         "39",
         "78",
         "88"
        ],
        [
         "0153",
         "Female",
         "44",
         "78",
         "20"
        ],
        [
         "0154",
         "Female",
         "38",
         "78",
         "76"
        ],
        [
         "0155",
         "Female",
         "47",
         "78",
         "16"
        ],
        [
         "0156",
         "Female",
         "27",
         "78",
         "89"
        ],
        [
         "0157",
         "Male",
         "37",
         "78",
         "1"
        ],
        [
         "0158",
         "Female",
         "30",
         "78",
         "78"
        ],
        [
         "0159",
         "Male",
         "34",
         "78",
         "1"
        ],
        [
         "0160",
         "Female",
         "30",
         "78",
         "73"
        ],
        [
         "0161",
         "Female",
         "56",
         "79",
         "35"
        ],
        [
         "0162",
         "Female",
         "29",
         "79",
         "83"
        ],
        [
         "0163",
         "Male",
         "19",
         "81",
         "5"
        ],
        [
         "0164",
         "Female",
         "31",
         "81",
         "93"
        ],
        [
         "0165",
         "Male",
         "50",
         "85",
         "26"
        ],
        [
         "0166",
         "Female",
         "36",
         "85",
         "75"
        ],
        [
         "0167",
         "Male",
         "42",
         "86",
         "20"
        ],
        [
         "0168",
         "Female",
         "33",
         "86",
         "95"
        ],
        [
         "0169",
         "Female",
         "36",
         "87",
         "27"
        ],
        [
         "0170",
         "Male",
         "32",
         "87",
         "63"
        ],
        [
         "0171",
         "Male",
         "40",
         "87",
         "13"
        ],
        [
         "0172",
         "Male",
         "28",
         "87",
         "75"
        ],
        [
         "0173",
         "Male",
         "36",
         "87",
         "10"
        ],
        [
         "0174",
         "Male",
         "36",
         "87",
         "92"
        ],
        [
         "0175",
         "Female",
         "52",
         "88",
         "13"
        ],
        [
         "0176",
         "Female",
         "30",
         "88",
         "86"
        ],
        [
         "0177",
         "Male",
         "58",
         "88",
         "15"
        ],
        [
         "0178",
         "Male",
         "27",
         "88",
         "69"
        ],
        [
         "0179",
         "Male",
         "59",
         "93",
         "14"
        ],
        [
         "0180",
         "Male",
         "35",
         "93",
         "90"
        ],
        [
         "0181",
         "Female",
         "37",
         "97",
         "32"
        ],
        [
         "0182",
         "Female",
         "32",
         "97",
         "86"
        ],
        [
         "0183",
         "Male",
         "46",
         "98",
         "15"
        ],
        [
         "0184",
         "Female",
         "29",
         "98",
         "88"
        ],
        [
         "0185",
         "Female",
         "41",
         "99",
         "39"
        ],
        [
         "0186",
         "Male",
         "30",
         "99",
         "97"
        ],
        [
         "0187",
         "Female",
         "54",
         "101",
         "24"
        ],
        [
         "0188",
         "Male",
         "28",
         "101",
         "68"
        ],
        [
         "0189",
         "Female",
         "41",
         "103",
         "17"
        ],
        [
         "0190",
         "Female",
         "36",
         "103",
         "85"
        ],
        [
         "0191",
         "Female",
         "34",
         "103",
         "23"
        ],
        [
         "0192",
         "Female",
         "32",
         "103",
         "69"
        ],
        [
         "0193",
         "Male",
         "33",
         "113",
         "8"
        ],
        [
         "0194",
         "Female",
         "38",
         "113",
         "91"
        ],
        [
         "0195",
         "Female",
         "47",
         "120",
         "16"
        ],
        [
         "0196",
         "Female",
         "35",
         "120",
         "79"
        ],
        [
         "0197",
         "Female",
         "45",
         "126",
         "28"
        ],
        [
         "0198",
         "Male",
         "32",
         "126",
         "74"
        ],
        [
         "0199",
         "Male",
         "32",
         "137",
         "18"
        ],
        [
         "0200",
         "Male",
         "30",
         "137",
         "83"
        ]
       ],
       "datasetInfos": [],
       "dbfsResultPath": null,
       "isJsonSchema": true,
       "metadata": {},
       "overflow": false,
       "plotOptions": {
        "customPlotOptions": {},
        "displayType": "table",
        "pivotAggregation": null,
        "pivotColumns": null,
        "xColumns": null,
        "yColumns": null
       },
       "removedWidgets": [],
       "schema": [
        {
         "metadata": "{}",
         "name": "CustomerID",
         "type": "\"string\""
        },
        {
         "metadata": "{}",
         "name": "Genre",
         "type": "\"string\""
        },
        {
         "metadata": "{}",
         "name": "Age",
         "type": "\"string\""
        },
        {
         "metadata": "{}",
         "name": "Annual Income (k$)",
         "type": "\"string\""
        },
        {
         "metadata": "{}",
         "name": "Spending Score (1-100)",
         "type": "\"string\""
        }
       ],
       "type": "table"
      }
     },
     "output_type": "display_data"
    }
   ],
   "source": [
    "# Leer el archivo Parquet\n",
    "df_parquet = spark.read.parquet(\"/ruta/al/almacenamiento/customers_parquet\")\n",
    "\n",
    "# Mostrar el contenido\n",
    "display(df_parquet)\n"
   ]
  }
 ],
 "metadata": {
  "application/vnd.databricks.v1+notebook": {
   "dashboards": [],
   "environmentMetadata": null,
   "language": "python",
   "notebookMetadata": {
    "mostRecentlyExecutedCommandWithImplicitDF": {
     "commandId": 1999166759453650,
     "dataframes": [
      "_sqldf"
     ]
    },
    "pythonIndentUnit": 4
   },
   "notebookName": "Databricks",
   "widgets": {}
  }
 },
 "nbformat": 4,
 "nbformat_minor": 0
}
